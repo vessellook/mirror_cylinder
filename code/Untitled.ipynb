{
 "cells": [
  {
   "cell_type": "code",
   "execution_count": 1,
   "id": "9ddaff63-289a-4d4d-9728-c47d94bc7f29",
   "metadata": {},
   "outputs": [],
   "source": [
    "from jupyter_dash import JupyterDash as Dash\n",
    "from dash.dependencies import Input, Output\n",
    "import dash_html_components as html\n",
    "import dash_core_components as dcc\n",
    "import plotly.express as px\n",
    "import json\n",
    "from textwrap import dedent as d\n",
    "\n",
    "app = Dash()"
   ]
  },
  {
   "cell_type": "code",
   "execution_count": 2,
   "id": "7cc9669f-d38f-45ae-8ef1-746552e4ac09",
   "metadata": {},
   "outputs": [],
   "source": [
    "app.css.append_css({'external_url': 'https://codepen.io/chriddyp/pen/dZVMbK.css'})\n",
    "\n",
    "styles = {'pre': {'border': 'thin lightgrey solid', 'overflowX': 'scroll'}}\n",
    "\n",
    "app.layout = html.Div(className='row', children=[\n",
    "    dcc.Graph(\n",
    "        id='basic-interactions',\n",
    "        className='six columns',\n",
    "        figure={\n",
    "            'data': [{\n",
    "                'x': [1, 2, 3, 4],\n",
    "                'y': [4, 1, 3, 5],\n",
    "                'text': ['a', 'b', 'c', 'd'],\n",
    "                'customdata': ['c.a', 'c.b', 'c.c', 'c.d'],\n",
    "                'name': 'Trace 1',\n",
    "                'mode': 'markers',\n",
    "                'marker': {\n",
    "                    'size': 12\n",
    "                }\n",
    "            }, {\n",
    "                'x': [1, 2, 3, 4],\n",
    "                'y': [9, 4, 1, 4],\n",
    "                'text': ['w', 'x', 'y', 'z'],\n",
    "                'customdata': ['c.w', 'c.x', 'c.y', 'c.z'],\n",
    "                'name': 'Trace 2',\n",
    "                'mode': 'markers',\n",
    "                'marker': {\n",
    "                    'size': 12\n",
    "                }\n",
    "            }],\n",
    "            'layout': {\n",
    "                'shapes': [{\n",
    "                    'type': 'line',\n",
    "\n",
    "                    'x0': 0,\n",
    "                    'x1': 1,\n",
    "                    'xref': 'paper',\n",
    "\n",
    "                    'y0': 3,\n",
    "                    'y1': 3,\n",
    "                    'yref': 'y',\n",
    "\n",
    "                    'line': {\n",
    "                        'width': 4,\n",
    "                        'color': 'rgb(30, 30, 30)'\n",
    "                    }\n",
    "                }]\n",
    "            }\n",
    "        },\n",
    "        config={\n",
    "            'editable': True,\n",
    "            'edits': {\n",
    "                'shapePosition': True\n",
    "            }\n",
    "        }\n",
    "    ),\n",
    "    html.Div(\n",
    "        className='six columns',\n",
    "        children=[\n",
    "            html.Div(\n",
    "                [\n",
    "                    dcc.Markdown(\n",
    "                        d(\"\"\"\n",
    "                **Zoom and Relayout Data**\n",
    "            \"\"\")),\n",
    "                    html.Pre(id='relayout-data', style=styles['pre']),\n",
    "                ]\n",
    "            )\n",
    "        ]\n",
    "    )\n",
    "])\n",
    "\n",
    "\n",
    "@app.callback(\n",
    "    Output('relayout-data', 'children'),\n",
    "    [Input('basic-interactions', 'relayoutData')])\n",
    "def display_selected_data(relayoutData):\n",
    "    return json.dumps(relayoutData, indent=2)\n",
    "\n"
   ]
  },
  {
   "cell_type": "code",
   "execution_count": 3,
   "id": "e5e361f7-ebbc-4849-9201-9076d9a9e0a9",
   "metadata": {},
   "outputs": [
    {
     "name": "stderr",
     "output_type": "stream",
     "text": [
      "/home/vessellook/.local/lib/python3.8/site-packages/dash/resources.py:63: UserWarning: You have set your config to `serve_locally=True` but A local version of https://codepen.io/chriddyp/pen/dZVMbK.css is not available.\n",
      "If you added this file with `app.scripts.append_script` or `app.css.append_css`, use `external_scripts` or `external_stylesheets` instead.\n",
      "See https://dash.plot.com/external-resources\n",
      "  warnings.warn(\n"
     ]
    }
   ],
   "source": [
    "app.run_server(debug=True, mode='jupyterlab')"
   ]
  },
  {
   "cell_type": "code",
   "execution_count": 3,
   "id": "44f38e8c-6dda-4168-afeb-1d145704fae9",
   "metadata": {},
   "outputs": [
    {
     "data": {
      "text/html": [
       "<div>\n",
       "<style scoped>\n",
       "    .dataframe tbody tr th:only-of-type {\n",
       "        vertical-align: middle;\n",
       "    }\n",
       "\n",
       "    .dataframe tbody tr th {\n",
       "        vertical-align: top;\n",
       "    }\n",
       "\n",
       "    .dataframe thead th {\n",
       "        text-align: right;\n",
       "    }\n",
       "</style>\n",
       "<table border=\"1\" class=\"dataframe\">\n",
       "  <thead>\n",
       "    <tr style=\"text-align: right;\">\n",
       "      <th></th>\n",
       "      <th>0</th>\n",
       "      <th>1</th>\n",
       "    </tr>\n",
       "  </thead>\n",
       "  <tbody>\n",
       "    <tr>\n",
       "      <th>0</th>\n",
       "      <td>1</td>\n",
       "      <td>4</td>\n",
       "    </tr>\n",
       "    <tr>\n",
       "      <th>1</th>\n",
       "      <td>9</td>\n",
       "      <td>16</td>\n",
       "    </tr>\n",
       "  </tbody>\n",
       "</table>\n",
       "</div>"
      ],
      "text/plain": [
       "   0   1\n",
       "0  1   4\n",
       "1  9  16"
      ]
     },
     "execution_count": 3,
     "metadata": {},
     "output_type": "execute_result"
    }
   ],
   "source": [
    "import pandas as pd\n",
    "import numpy as np\n",
    "df = pd.DataFrame(data=[[1, 2], [3, 4]])\n",
    "np.square(df)"
   ]
  },
  {
   "cell_type": "code",
   "execution_count": null,
   "id": "033ebec7-56e9-43c7-8d8a-ebf34724b5e6",
   "metadata": {},
   "outputs": [],
   "source": []
  }
 ],
 "metadata": {
  "kernelspec": {
   "display_name": "Python 3",
   "language": "python",
   "name": "python3"
  },
  "language_info": {
   "codemirror_mode": {
    "name": "ipython",
    "version": 3
   },
   "file_extension": ".py",
   "mimetype": "text/x-python",
   "name": "python",
   "nbconvert_exporter": "python",
   "pygments_lexer": "ipython3",
   "version": "3.8.10"
  }
 },
 "nbformat": 4,
 "nbformat_minor": 5
}
