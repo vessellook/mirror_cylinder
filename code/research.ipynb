{
 "cells": [
  {
   "cell_type": "markdown",
   "metadata": {},
   "source": [
    "<span style=\"color:red; font-size:3em\">Сначала посмотри в файл **idea.ipynb**</span>"
   ]
  },
  {
   "cell_type": "code",
   "execution_count": 1,
   "metadata": {
    "ExecuteTime": {
     "end_time": "2021-05-27T20:44:51.670421Z",
     "start_time": "2021-05-27T20:44:51.660066Z"
    },
    "cell_style": "center",
    "tags": []
   },
   "outputs": [],
   "source": [
    "%load_ext autoreload\n",
    "%autoreload 2"
   ]
  },
  {
   "cell_type": "markdown",
   "metadata": {
    "tags": []
   },
   "source": [
    "# Визуализация задачи"
   ]
  },
  {
   "cell_type": "code",
   "execution_count": 2,
   "metadata": {
    "ExecuteTime": {
     "end_time": "2021-05-27T20:44:55.737484Z",
     "start_time": "2021-05-27T20:44:54.792132Z"
    },
    "tags": []
   },
   "outputs": [],
   "source": [
    "import numpy as np\n",
    "import pandas as pd\n",
    "\n",
    "import plotly.express as px\n",
    "import plotly.graph_objects as go\n",
    "from plotly.subplots import make_subplots\n",
    "import dash_core_components as dcc\n",
    "import dash_html_components as html\n",
    "from dash import no_update\n",
    "from dash.dependencies import Input, Output, State\n",
    "from dash.exceptions import PreventUpdate\n",
    "from jupyter_dash import JupyterDash\n",
    "\n",
    "from is_jupyterlab_running import is_jupyterlab_running\n",
    "from problem import Problem, Vector, VectorRegressor\n",
    "from problem.figures import Cylinder\n",
    "\n",
    "import traceback"
   ]
  },
  {
   "cell_type": "code",
   "execution_count": 3,
   "metadata": {
    "ExecuteTime": {
     "end_time": "2021-05-27T20:44:56.937709Z",
     "start_time": "2021-05-27T20:44:56.920387Z"
    },
    "tags": []
   },
   "outputs": [],
   "source": [
    "r = 100\n",
    "h = 200\n",
    "d = 100\n",
    "problem = Problem(r=r, d=d, h=h)"
   ]
  },
  {
   "cell_type": "code",
   "execution_count": 40,
   "metadata": {
    "ExecuteTime": {
     "end_time": "2021-05-27T21:31:23.467758Z",
     "start_time": "2021-05-27T21:31:23.065849Z"
    },
    "code_folding": [],
    "scrolled": true,
    "tags": []
   },
   "outputs": [],
   "source": [
    "cylinder = Cylinder(r=r, h=h, d=d)\n",
    "start_c_vector = problem.get_c(x=0, z=h / 2)\n",
    "start_ray = problem.get_ray(c=start_c_vector)\n",
    "\n",
    "\n",
    "xOy = go.Surface(\n",
    "    x=np.outer(np.ones(100), np.linspace(-4 * r, 4 * r, 100)),\n",
    "    y=np.outer(np.linspace(-4 * r, 2 * r + 2 * d, 100), np.ones(100)),\n",
    "    z=np.outer(np.zeros(100), np.zeros(100)),\n",
    ")\n",
    "\n",
    "y_eq_r = go.Surface(\n",
    "    x=np.outer(np.ones(100), np.linspace(-4 * r, 4 * r, 100)),\n",
    "    y=r * np.outer(np.ones(100), np.ones(100)),\n",
    "    z=np.outer(np.linspace(0, h, 100), np.ones(100)),\n",
    "    opacity=0.7,\n",
    "    colorscale=[[0, \"orange\"], [1, \"orange\"]],\n",
    ")\n",
    "\n",
    "fig_layout = dict(\n",
    "    scene=dict(\n",
    "        xaxis=dict(nticks=4, range=[-4 * r, 4 * r],),\n",
    "        yaxis=dict(nticks=4, range=[-4 * r, 2 * r + 2 * d],),\n",
    "        zaxis=dict(nticks=4, range=[-h, h],),\n",
    "        aspectratio=dict(x=1, y=1, z=1),\n",
    "    ),\n",
    "    height=1000,\n",
    ")\n",
    "\n",
    "fig = go.Figure(\n",
    "    data=[cylinder.surface(100, 100), xOy, y_eq_r, start_ray.trace], layout=fig_layout\n",
    ")\n",
    "\n",
    "surface_labels = [\"cylinder\", \"xOy\", \"y=r\", \"ray\"]\n",
    "\n",
    "\n",
    "app = JupyterDash(__name__)\n",
    "app.layout = html.Div(\n",
    "    [html.H1(\"Geometry \"),\n",
    "     dcc.Graph(id=\"graph\", figure=fig, animate=True, animation_options={\"frame\":{\"redraw\":True}}),\n",
    "     html.P(id=\"stdout\"), html.P(id=\"stderr\", style={\"color\": \"#f00\"})]\n",
    ")\n",
    "\n",
    "\n",
    "@app.callback(\n",
    "    Output(\"graph\", \"figure\"),\n",
    "    Output(\"stdout\", \"children\"),\n",
    "    Output(\"stderr\", \"children\"),\n",
    "    Input(\"graph\", \"clickData\"),\n",
    "    State(\"graph\", \"figure\"),\n",
    ")\n",
    "def update_ray(click_data, figure):\n",
    "    if click_data is None:\n",
    "        raise PreventUpdate\n",
    "    try:\n",
    "        figure[\"layout\"][\"scene\"]\n",
    "        data = click_data[\"points\"][0]\n",
    "        point = Vector(data[\"x\"], data[\"y\"], data[\"z\"])\n",
    "        label = surface_labels[data[\"curveNumber\"]]\n",
    "        if label == \"cylinder\":\n",
    "            ray = problem.get_ray(c=point)\n",
    "        elif label == \"xOy\":\n",
    "            ray = problem.get_ray(a=point)\n",
    "        elif label == \"y=r\":\n",
    "            ray = problem.get_ray(e=point)\n",
    "        else:\n",
    "            return no_update, str(data), \"another surface\"\n",
    "        if ray.c.y < problem.r ** 2 / (problem.r + problem.d):\n",
    "            return no_update, str(data), \"point C is not seen\"\n",
    "        figure[\"data\"][3] = ray.trace\n",
    "        return figure, html.Div([html.P(str(data)),\n",
    "                                 html.P(f\"a = {ray.a}\"),\n",
    "                                 html.P(f\"c = {ray.c}\"),\n",
    "                                 html.P(f\"e = {ray.e}\"),\n",
    "                                 html.P(f\"f = {ray.f}\")]), no_update\n",
    "    except BaseException as e:\n",
    "        return no_update, str(data), html.Div([\n",
    "            html.P(str(data)),\n",
    "            html.Pre(\n",
    "                ''.join(traceback.TracebackException.from_exception(e).format())),\n",
    "            html.P('base exception')\n",
    "        ])\n",
    "\n",
    "\n",
    "app.run_server(mode=\"jupyterlab\" if is_jupyterlab_running()\n",
    "               else \"inline\", port=8052 if is_jupyterlab_running() else 8053)"
   ]
  },
  {
   "cell_type": "code",
   "execution_count": 19,
   "metadata": {
    "tags": []
   },
   "outputs": [],
   "source": [
    "df = problem.get_dataframe()\n",
    "ax, ay, az = df['Ax'], df['Ay'], df['Az']\n",
    "cx, cy, cz = df['Cx'], df['Cy'], df['Cz']\n",
    "ex, ey, ez = df['Ex'], df['Ey'], df['Ez']\n",
    "a2c, e2c = problem.a2c(df), problem.e2c(df)\n",
    "a2cx, a2cy, a2cz = a2c['Cx'], a2c['Cy'], a2c['Cz']\n",
    "e2cx, e2cy, e2cz = e2c['Cx'], e2c['Cy'], e2c['Cz']\n",
    "for array in (ax, ay, az, cx, cy, cz, ex, ey, ez, a2cx, a2cy, a2cz, e2cx, e2cy, e2cz):\n",
    "    array.to_numpy().shape = 100, 100"
   ]
  },
  {
   "cell_type": "code",
   "execution_count": 42,
   "metadata": {
    "ExecuteTime": {
     "end_time": "2021-05-27T21:36:10.540516Z",
     "start_time": "2021-05-27T21:36:10.331144Z"
    },
    "tags": []
   },
   "outputs": [],
   "source": [
    "fig = make_subplots(\n",
    "    rows=3,\n",
    "    cols=1,\n",
    "    specs=[\n",
    "        [{\"type\": \"scene\"}],\n",
    "        [{\"type\": \"scene\"}],\n",
    "        [{\"type\": \"scene\"}]\n",
    "    ],\n",
    "    subplot_titles=[\"A -> Cx\", \"A -> Cy\", \"A -> Cz\"],\n",
    ")\n",
    "\n",
    "fig.update_layout(height=1000)\n",
    "\n",
    "titles = [\"Cx(z)\", \"Cy(z)\", \"Cz(z)\"]\n",
    "for row in range(1, 4):\n",
    "    fig.update_scenes(xaxis_title=\"Ax(x)\", yaxis_title=\"Ay(y)\", zaxis_title=titles[row - 1], row=row, col=1)\n",
    "\n",
    "fig.add_traces(\n",
    "    [\n",
    "        go.Surface(x=ax.values, y=ay.values, z=cx.values, colorscale=[[0, \"blue\"], [1, \"blue\"]]),\n",
    "        go.Surface(x=ax.values, y=ay.values, z=a2cx.values, colorscale=[[0, \"red\"], [1, \"red\"]]),\n",
    "    ], rows=1, cols=1\n",
    ")\n",
    "fig.add_traces(\n",
    "    [\n",
    "        go.Surface(x=ax.values, y=ay.values, z=cy.values, colorscale=[[0, \"blue\"], [1, \"blue\"]]),\n",
    "        go.Surface(x=ax.values, y=ay.values, z=a2cy.values, colorscale=[[0, \"red\"], [1, \"red\"]]),\n",
    "    ], rows=2, cols=1\n",
    ")\n",
    "fig.add_traces(\n",
    "    [\n",
    "        go.Surface(x=ax.values, y=ay.values, z=cz.values, colorscale=[[0, \"blue\"], [1, \"blue\"]]),\n",
    "        go.Surface(x=ax.values, y=ay.values, z=a2cz.values, colorscale=[[0, \"red\"], [1, \"red\"]]),\n",
    "    ], rows=3, cols=1\n",
    ")\n",
    "\n",
    "\n",
    "app = JupyterDash(__name__)\n",
    "app.layout = html.Div(\n",
    "    [html.H1(\"Geometry \"), dcc.Graph(id=\"graph\", figure=fig), html.P(id=\"out\")]\n",
    ")\n",
    "\n",
    "app.run_server(mode=\"jupyterlab\" if is_jupyterlab_running() else \"inline\", port=8052 if is_jupyterlab_running() else 8053)"
   ]
  },
  {
   "cell_type": "code",
   "execution_count": 43,
   "metadata": {
    "ExecuteTime": {
     "end_time": "2021-05-26T15:14:26.386489Z",
     "start_time": "2021-05-26T15:14:20.705847Z"
    }
   },
   "outputs": [],
   "source": [
    "fig = make_subplots(\n",
    "    rows=3,\n",
    "    cols=1,\n",
    "    specs=[\n",
    "        [{\"type\": \"scene\"}],\n",
    "        [{\"type\": \"scene\"}],\n",
    "        [{\"type\": \"scene\"}]\n",
    "    ],\n",
    "    subplot_titles=[\"E -> Cx\", \"E -> Cy\", \"E -> Cz\"],\n",
    ")\n",
    "\n",
    "fig.update_layout(height=1000)\n",
    "\n",
    "titles = [\"Cx(z)\", \"Cy(z)\", \"Cz(z)\"]\n",
    "for row in range(1, 4):\n",
    "    fig.update_scenes(xaxis_title=\"Ex(x)\", yaxis_title=\"Ez(y)\", zaxis_title=titles[row - 1], row=row, col=1)\n",
    "\n",
    "fig.add_traces(\n",
    "    [\n",
    "        go.Surface(x=ex.values, y=ez.values, z=cx.values, colorscale=[[0, \"blue\"], [1, \"blue\"]]),\n",
    "        go.Surface(x=ex.values, y=ez.values, z=e2cx.values, colorscale=[[0, \"red\"], [1, \"red\"]]),\n",
    "    ], rows=1, cols=1\n",
    ")\n",
    "fig.add_traces(\n",
    "    [\n",
    "        go.Surface(x=ex.values, y=ez.values, z=cy.values, colorscale=[[0, \"blue\"], [1, \"blue\"]]),\n",
    "        go.Surface(x=ex.values, y=ez.values, z=e2cy.values, colorscale=[[0, \"red\"], [1, \"red\"]]),\n",
    "    ], rows=2, cols=1\n",
    ")\n",
    "fig.add_traces(\n",
    "    [\n",
    "        go.Surface(x=ex.values, y=ez.values, z=cz.values, colorscale=[[0, \"blue\"], [1, \"blue\"]]),\n",
    "        go.Surface(x=ex.values, y=ez.values, z=e2cz.values, colorscale=[[0, \"red\"], [1, \"red\"]]),\n",
    "    ], rows=3, cols=1\n",
    ")\n",
    "\n",
    "\n",
    "app = JupyterDash(__name__)\n",
    "app.layout = html.Div(\n",
    "    [html.H1(\"Geometry \"), dcc.Graph(id=\"graph\", figure=fig), html.P(id=\"out\")]\n",
    ")\n",
    "\n",
    "app.run_server(mode=\"jupyterlab\" if is_jupyterlab_running() else \"inline\", port=8052 if is_jupyterlab_running() else 8053)"
   ]
  },
  {
   "cell_type": "code",
   "execution_count": 39,
   "metadata": {},
   "outputs": [],
   "source": [
    "fig = make_subplots(\n",
    "    rows=2,\n",
    "    cols=1,\n",
    "    specs=[\n",
    "        [{\"type\": \"scene\"}],\n",
    "        [{\"type\": \"scene\"}]\n",
    "    ],\n",
    "    subplot_titles=[\"C -> Ax\", \"C -> Ay\", \"C -> Az\"],\n",
    ")\n",
    "\n",
    "fig.update_layout(height=1000)\n",
    "\n",
    "titles = [\"Ax(z)\", \"Ay(z)\"]\n",
    "for row in range(1, 3):\n",
    "    fig.update_scenes(xaxis_title=\"Cx(x)\", yaxis_title=\"Cz(y)\", zaxis_title=titles[row - 1], row=row, col=1)\n",
    "\n",
    "fig.add_traces(\n",
    "    [\n",
    "        go.Surface(x=cx.values, y=cz.values, z=ax.values, colorscale=[[0, \"blue\"], [1, \"blue\"]]),\n",
    "    ], rows=1, cols=1\n",
    ")\n",
    "fig.add_traces(\n",
    "    [\n",
    "        go.Surface(x=cx.values, y=cz.values, z=ay.values, colorscale=[[0, \"blue\"], [1, \"blue\"]]),\n",
    "    ], rows=2, cols=1\n",
    ")\n",
    "\n",
    "\n",
    "app = JupyterDash(__name__)\n",
    "app.layout = html.Div(\n",
    "    [html.H1(\"Geometry \"), dcc.Graph(id=\"graph\", figure=fig), html.P(id=\"out\")]\n",
    ")\n",
    "\n",
    "app.run_server(mode=\"jupyterlab\" if is_jupyterlab_running() else \"inline\", port=8052 if is_jupyterlab_running() else 8053)"
   ]
  },
  {
   "cell_type": "markdown",
   "metadata": {},
   "source": [
    "# Известно A, нужно найти C\n",
    "Теоретически выразить координаты $C$ через координаты $A$ не удаётся. Поэтому нужно прибегнуть к помощи машинного обучения"
   ]
  },
  {
   "cell_type": "code",
   "execution_count": 1,
   "metadata": {
    "ExecuteTime": {
     "end_time": "2021-05-26T14:22:54.093437Z",
     "start_time": "2021-05-26T14:22:53.806310Z"
    }
   },
   "outputs": [],
   "source": [
    "import numpy as np\n",
    "import pandas as pd\n",
    "\n",
    "from sklearn.metrics import mean_squared_error as MSE\n",
    "from sklearn.model_selection import train_test_split\n",
    "from sklearn.tree import DecisionTreeRegressor\n",
    "\n",
    "from problem import Problem, Vector, VectorRegressor"
   ]
  },
  {
   "cell_type": "code",
   "execution_count": 2,
   "metadata": {
    "ExecuteTime": {
     "end_time": "2021-05-26T14:26:22.469829Z",
     "start_time": "2021-05-26T14:26:22.251368Z"
    }
   },
   "outputs": [],
   "source": [
    "problem = Problem(h=2, d=1, r=1)\n",
    "df = problem.get_dataframe(100, 100)"
   ]
  },
  {
   "cell_type": "code",
   "execution_count": 3,
   "metadata": {
    "ExecuteTime": {
     "end_time": "2021-05-26T14:26:24.404079Z",
     "start_time": "2021-05-26T14:26:24.399820Z"
    }
   },
   "outputs": [],
   "source": [
    "def get_X(v):\n",
    "    x, y, z = v.x, v.y, v.z\n",
    "    return (\n",
    "        x * 0 + 1,\n",
    "        x,\n",
    "        y,\n",
    "        z,\n",
    "        x ** 2,\n",
    "        y ** 2,\n",
    "        z ** 2,\n",
    "        1 / (x + 0.0001),\n",
    "        1 / (y + 0.0001),\n",
    "        1 / (z + 0.0001),\n",
    "        x * y,\n",
    "        x * z,\n",
    "        y * z,\n",
    "        np.arctan(y / x),\n",
    "    )\n",
    "\n",
    "\n",
    "f = VectorRegressor([DecisionTreeRegressor() for _ in range(3)], get_X)"
   ]
  },
  {
   "cell_type": "code",
   "execution_count": 4,
   "metadata": {
    "ExecuteTime": {
     "end_time": "2021-05-26T14:26:26.118707Z",
     "start_time": "2021-05-26T14:26:26.105418Z"
    }
   },
   "outputs": [],
   "source": [
    "X = df.rename(columns={'Ax': 'x', 'Ay': 'y', 'Az': 'z'})\n",
    "Y = df.rename(columns={'Cx': 'x', 'Cy': 'y', 'Cz': 'z'})\n",
    "\n",
    "X_train, X_test, Y_train, Y_test = train_test_split(X, Y, test_size=0.33, random_state=42)"
   ]
  },
  {
   "cell_type": "code",
   "execution_count": 5,
   "metadata": {
    "ExecuteTime": {
     "end_time": "2021-05-26T14:26:28.195108Z",
     "start_time": "2021-05-26T14:26:27.805517Z"
    }
   },
   "outputs": [],
   "source": [
    "f.fit(X_train, Y_train)"
   ]
  },
  {
   "cell_type": "code",
   "execution_count": 6,
   "metadata": {
    "ExecuteTime": {
     "end_time": "2021-05-26T14:26:30.030692Z",
     "start_time": "2021-05-26T14:26:29.886797Z"
    }
   },
   "outputs": [
    {
     "name": "stdout",
     "output_type": "stream",
     "text": [
      "Train\n",
      "x: 0.0\n",
      "y: 0.0\n",
      "z: 4.108650548026103e-33\n",
      "Test\n",
      "x: 4.1246999642293303e-33\n",
      "y: 4.108650548026103e-33\n",
      "z: 8.706594565180416e-05\n"
     ]
    }
   ],
   "source": [
    "predicted_Y_train = f.predict(X_train)\n",
    "\n",
    "print(\"Train\")\n",
    "for real_values, predicted_values, coord in zip(\n",
    "    Y_train[['x', 'y', 'z']].values, predicted_Y_train[['x', 'y', 'z']].values, \"xyz\"\n",
    "):\n",
    "    print(f\"{coord}:\", MSE(real_values, predicted_values))\n",
    "\n",
    "predicted_Y_test = f.predict(X_test)\n",
    "\n",
    "print(\"Test\")\n",
    "for real_values, predicted_values, coord in zip(Y_test[['x', 'y', 'z']].values, predicted_Y_test[['x', 'y', 'z']].values, \"xyz\"):\n",
    "    print(f\"{coord}:\", MSE(real_values, predicted_values))"
   ]
  },
  {
   "cell_type": "markdown",
   "metadata": {},
   "source": [
    "# Известно E, нужно найти C"
   ]
  },
  {
   "cell_type": "markdown",
   "metadata": {},
   "source": [
    "Теоретически выразить координаты $C$ через координаты $E$ не удаётся. Поэтому нужно прибегнуть к помощи машинного обучения"
   ]
  },
  {
   "cell_type": "code",
   "execution_count": 7,
   "metadata": {
    "ExecuteTime": {
     "end_time": "2021-05-26T14:28:13.664291Z",
     "start_time": "2021-05-26T14:28:13.442247Z"
    },
    "cell_style": "center"
   },
   "outputs": [],
   "source": [
    "import numpy as np\n",
    "import pandas as pd\n",
    "\n",
    "from sklearn.metrics import mean_squared_error as MSE\n",
    "from sklearn.model_selection import train_test_split\n",
    "from sklearn.tree import DecisionTreeRegressor\n",
    "\n",
    "from problem import Problem, Vector, VectorRegressor"
   ]
  },
  {
   "cell_type": "code",
   "execution_count": 8,
   "metadata": {
    "ExecuteTime": {
     "end_time": "2021-05-26T14:28:15.369946Z",
     "start_time": "2021-05-26T14:28:15.366978Z"
    },
    "cell_style": "center"
   },
   "outputs": [],
   "source": [
    "problem = Problem(h=2, d=1, r=1)\n",
    "df = problem.get_dataframe(100, 100)"
   ]
  },
  {
   "cell_type": "code",
   "execution_count": 9,
   "metadata": {
    "ExecuteTime": {
     "end_time": "2021-05-26T14:28:17.097341Z",
     "start_time": "2021-05-26T14:28:17.080163Z"
    }
   },
   "outputs": [],
   "source": [
    "X = df.rename(columns={'Ex': 'x', 'Ey': 'y', 'Ez': 'z'})\n",
    "Y = df.rename(columns={'Cx': 'x', 'Cy': 'y', 'Cz': 'z'})\n",
    "\n",
    "X_train, X_test, Y_train, Y_test = train_test_split(X, Y, test_size=0.33, random_state=42)"
   ]
  },
  {
   "cell_type": "code",
   "execution_count": 11,
   "metadata": {
    "ExecuteTime": {
     "end_time": "2021-05-26T14:28:18.923903Z",
     "start_time": "2021-05-26T14:28:18.805298Z"
    }
   },
   "outputs": [],
   "source": [
    "g = VectorRegressor([DecisionTreeRegressor() for _ in range(3)], get_X)\n",
    "g.fit(X_train, Y_train)"
   ]
  },
  {
   "cell_type": "code",
   "execution_count": 14,
   "metadata": {
    "ExecuteTime": {
     "end_time": "2021-05-26T14:28:20.721344Z",
     "start_time": "2021-05-26T14:28:20.592381Z"
    }
   },
   "outputs": [
    {
     "name": "stdout",
     "output_type": "stream",
     "text": [
      "Train\n",
      "x: 1.533553817050743e-30\n",
      "y: 1.0682491424867867e-31\n",
      "z: 3.3382785702712087e-31\n",
      "Test\n",
      "x: 2.9952062495110292e-30\n",
      "y: 4.1086505480261033e-32\n",
      "z: 8.706594565180416e-05\n"
     ]
    }
   ],
   "source": [
    "predicted_Y_train = g.predict(X_train)\n",
    "\n",
    "print(\"Train\")\n",
    "for real_values, predicted_values, coord in zip(\n",
    "    Y_train[['x', 'y', 'z']].values, predicted_Y_train[['x', 'y', 'z']].values, \"xyz\"\n",
    "):\n",
    "    print(f\"{coord}:\", MSE(real_values, predicted_values))\n",
    "\n",
    "predicted_Y_test = g.predict(X_test)\n",
    "\n",
    "print(\"Test\")\n",
    "for real_values, predicted_values, coord in zip(Y_test[['x', 'y', 'z']].values, predicted_Y_test[['x', 'y', 'z']].values, \"xyz\"):\n",
    "    print(f\"{coord}:\", MSE(real_values, predicted_values))"
   ]
  }
 ],
 "metadata": {
  "hide_input": false,
  "kernelspec": {
   "display_name": "Python 3",
   "language": "python",
   "name": "python3"
  },
  "language_info": {
   "codemirror_mode": {
    "name": "ipython",
    "version": 3
   },
   "file_extension": ".py",
   "mimetype": "text/x-python",
   "name": "python",
   "nbconvert_exporter": "python",
   "pygments_lexer": "ipython3",
   "version": "3.8.10"
  },
  "latex_envs": {
   "LaTeX_envs_menu_present": true,
   "autoclose": false,
   "autocomplete": true,
   "bibliofile": "biblio.bib",
   "cite_by": "apalike",
   "current_citInitial": 1,
   "eqLabelWithNumbers": true,
   "eqNumInitial": 1,
   "hotkeys": {
    "equation": "Ctrl-E",
    "itemize": "Ctrl-I"
   },
   "labels_anchors": false,
   "latex_user_defs": false,
   "report_style_numbering": false,
   "user_envs_cfg": false
  },
  "toc": {
   "base_numbering": 1,
   "nav_menu": {
    "height": "343px",
    "width": "256.6px"
   },
   "number_sections": true,
   "sideBar": true,
   "skip_h1_title": false,
   "title_cell": "Table of Contents",
   "title_sidebar": "Contents",
   "toc_cell": false,
   "toc_position": {},
   "toc_section_display": true,
   "toc_window_display": false
  },
  "varInspector": {
   "cols": {
    "lenName": 16,
    "lenType": 16,
    "lenVar": 40
   },
   "kernels_config": {
    "python": {
     "delete_cmd_postfix": "",
     "delete_cmd_prefix": "del ",
     "library": "var_list.py",
     "varRefreshCmd": "print(var_dic_list())"
    },
    "r": {
     "delete_cmd_postfix": ") ",
     "delete_cmd_prefix": "rm(",
     "library": "var_list.r",
     "varRefreshCmd": "cat(var_dic_list()) "
    }
   },
   "position": {
    "height": "619.583px",
    "left": "1005.5px",
    "right": "20px",
    "top": "113px",
    "width": "405.733px"
   },
   "types_to_exclude": [
    "module",
    "function",
    "builtin_function_or_method",
    "instance",
    "_Feature"
   ],
   "window_display": false
  }
 },
 "nbformat": 4,
 "nbformat_minor": 4
}
