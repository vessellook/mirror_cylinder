{
 "cells": [
  {
   "cell_type": "markdown",
   "metadata": {
    "tags": []
   },
   "source": [
    "# Анаморфные картины"
   ]
  },
  {
   "cell_type": "markdown",
   "metadata": {},
   "source": [
    "![<Здесь должно быть изображение>](../img/anamorf.jpg  \"Анаморфное изображение\")\n",
    "\n",
    "Анаморфное изображение &mdash; это искажённое изображение на неровной поверхности, которое с определённой точки зрения становится ровным\n",
    "\n",
    "Сходные вещи освещены здесь\n",
    "- [Мадоннари](https://ru.wikipedia.org/wiki/%D0%9C%D0%B0%D0%B4%D0%BE%D0%BD%D0%BD%D0%B0%D1%80%D0%B8) на Википедии\n",
    "- [Анаморфоз](https://ru.wikipedia.org/wiki/%D0%90%D0%BD%D0%B0%D0%BC%D0%BE%D1%80%D1%84%D0%BE%D0%B7_(%D0%B8%D1%81%D0%BA%D1%83%D1%81%D1%81%D1%82%D0%B2%D0%BE)) на Википедии\n",
    "\n",
    "Существуют такие изображения пейзажа, что если поставить в определённую точку зеркальный цилиндр, пейзаж отобразится в нём в какое-то другое изображение, например, портрет человека"
   ]
  },
  {
   "cell_type": "markdown",
   "metadata": {
    "tags": []
   },
   "source": [
    "# Цель"
   ]
  },
  {
   "cell_type": "markdown",
   "metadata": {},
   "source": [
    "Цель проекта: научиться по имеющемуся \"портрету\" создавать \"пейзаж\". Более амбициозная задача: создать редактор с окнами \"Пейзаж\" и \"Портрет\", при редактировании в одном окне меняется и другое"
   ]
  },
  {
   "cell_type": "markdown",
   "metadata": {
    "tags": []
   },
   "source": [
    "# Постановка геометрической задачи"
   ]
  },
  {
   "cell_type": "markdown",
   "metadata": {},
   "source": [
    "Задаётся система декартовых координат. Существует цилиндр радиуса $r$ с осью $Oz$. На расстоянии $d$ от его поверхности и на высоте $h$ от плоскости $xOy$ находится точка зрения $F = (0, r + d, h)$. Проводится плоскость $\\Pi: y = r$\n",
    "\n",
    "Луч света выходит из точки $F$, проходит через точку $E = (x_E, r, z_E)$ плоскости $\\Pi$, попадает в точку $C = (x_C, y_C, z_C)$ поверхности цилиндра, отражается от неё и попадает в точку $A = (x_A, y_A, 0)$ на $xOy$\n",
    "\n",
    "Для света есть два правила: \n",
    " - угол падения света равен углу отражения\n",
    " - падающий и отражённый лучи лежат в одной плоскости с перпендикуляром к поверхности\n",
    "Для описания этих углов вводится точка $B = (0, 0, z_C)$, которая является основанием перпендикуляра из $C$ на ось цилиндра. То есть угол $ACB$ равен углу $FCB$ и точки $A, B, C, F$ лежат в одной плоскости, а $C, E, F$ на одной прямой\n",
    "\n",
    "Высчитывать углы неудобно, поэтому используется следствие из равенства углов: $BC$ биссектриса угла $ACF$. Отметим точку $M$ как пересечение $AF$ и $BC$. В таком случае по свойству биссектрисы верно соотношение\n",
    "$$\\frac{AC}{FC} = \\frac{AM}{FM}$$\n",
    "Если опустить перпендикуляры из $AH_A$ и $FH_F$ на плоскость $\\sigma: z = z_C$, то из подобия треугольников $AH_AM$ и $FH_FM$ слеует\n",
    "$$\\frac{AC}{FC} = \\frac{AM}{FM} = \\frac{AH_A}{FH_F} = \\frac{z_C}{h - z_C}$$\n",
    "\n",
    "Итак, величины $r$, $h$ и $d$ задаются как параметры. Нужно научиться выражать одну из точек $A, C, E$ через другую"
   ]
  },
  {
   "cell_type": "markdown",
   "metadata": {
    "tags": []
   },
   "source": [
    "## Визуализация задачи"
   ]
  },
  {
   "cell_type": "code",
   "execution_count": 2,
   "metadata": {
    "ExecuteTime": {
     "end_time": "2021-05-27T20:44:55.737484Z",
     "start_time": "2021-05-27T20:44:54.792132Z"
    },
    "tags": []
   },
   "outputs": [],
   "source": [
    "import numpy as np\n",
    "import pandas as pd\n",
    "\n",
    "import plotly.express as px\n",
    "import plotly.graph_objects as go\n",
    "from plotly.subplots import make_subplots\n",
    "import dash_core_components as dcc\n",
    "import dash_html_components as html\n",
    "from dash import no_update\n",
    "from dash.dependencies import Input, Output, State\n",
    "from dash.exceptions import PreventUpdate\n",
    "from jupyter_dash import JupyterDash\n",
    "\n",
    "from is_jupyterlab_running import is_jupyterlab_running\n",
    "from problem import Problem, Vector, VectorRegressor\n",
    "from problem.figures import Cylinder\n",
    "\n",
    "import traceback"
   ]
  },
  {
   "cell_type": "code",
   "execution_count": 3,
   "metadata": {
    "ExecuteTime": {
     "end_time": "2021-05-27T20:44:56.937709Z",
     "start_time": "2021-05-27T20:44:56.920387Z"
    },
    "tags": []
   },
   "outputs": [],
   "source": [
    "r = 100\n",
    "h = 200\n",
    "d = 100\n",
    "n, m = 100, 100\n",
    "problem = Problem(r=r, d=d, h=h)"
   ]
  },
  {
   "cell_type": "code",
   "execution_count": 4,
   "metadata": {
    "ExecuteTime": {
     "end_time": "2021-05-27T21:31:23.467758Z",
     "start_time": "2021-05-27T21:31:23.065849Z"
    },
    "code_folding": [],
    "scrolled": true,
    "tags": []
   },
   "outputs": [],
   "source": [
    "cylinder = Cylinder(r=r, h=h, d=d)\n",
    "\n",
    "xOy = go.Surface(\n",
    "    x=np.outer(np.ones(n), np.linspace(-4 * r, 4 * r, m)),\n",
    "    y=np.outer(np.linspace(-4 * r, 2 * r + 2 * d, n), np.ones(m)),\n",
    "    z=np.outer(np.zeros(n), np.zeros(m)),\n",
    ")\n",
    "\n",
    "y_eq_r = go.Surface(\n",
    "    x=np.outer(np.ones(n), np.linspace(-4 * r, 4 * r, m)),\n",
    "    y=r * np.outer(np.ones(n), np.ones(m)),\n",
    "    z=np.outer(np.linspace(0, h, n), np.ones(m)),\n",
    "    opacity=0.7,\n",
    "    colorscale=[[0, \"orange\"], [1, \"orange\"]],\n",
    ")\n",
    "\n",
    "fig_layout = dict(\n",
    "    scene=dict(\n",
    "        xaxis=dict(nticks=4, range=[-4 * r, 4 * r],),\n",
    "        yaxis=dict(nticks=4, range=[-4 * r, 2 * r + 2 * d],),\n",
    "        zaxis=dict(nticks=4, range=[-h, h],),\n",
    "        aspectratio=dict(x=1, y=1, z=1),\n",
    "    ),\n",
    "    height=1000,\n",
    ")\n",
    "\n",
    "surface_labels = [\"cylinder\", \"xOy\", \"y=r\", \"ray\"]"
   ]
  },
  {
   "cell_type": "code",
   "execution_count": 5,
   "metadata": {},
   "outputs": [
    {
     "ename": "OSError",
     "evalue": "Address 'http://127.0.0.1:8050' already in use.\n    Try passing a different port to run_server.",
     "output_type": "error",
     "traceback": [
      "\u001b[0;31m---------------------------------------------------------------------------\u001b[0m",
      "\u001b[0;31mOSError\u001b[0m                                   Traceback (most recent call last)",
      "\u001b[0;32m<ipython-input-5-cec68ab7b122>\u001b[0m in \u001b[0;36m<module>\u001b[0;34m\u001b[0m\n\u001b[1;32m     12\u001b[0m )\n\u001b[1;32m     13\u001b[0m \u001b[0;34m\u001b[0m\u001b[0m\n\u001b[0;32m---> 14\u001b[0;31m app.run_server(mode=\"jupyterlab\" if is_jupyterlab_running()\n\u001b[0m\u001b[1;32m     15\u001b[0m                else \"inline\", port=8050 if is_jupyterlab_running() else 8051)\n",
      "\u001b[0;32m~/anaconda3/lib/python3.8/site-packages/jupyter_dash/jupyter_app.py\u001b[0m in \u001b[0;36mrun_server\u001b[0;34m(self, mode, width, height, inline_exceptions, **kwargs)\u001b[0m\n\u001b[1;32m    317\u001b[0m                 )\n\u001b[1;32m    318\u001b[0m \u001b[0;34m\u001b[0m\u001b[0m\n\u001b[0;32m--> 319\u001b[0;31m         \u001b[0mwait_for_app\u001b[0m\u001b[0;34m(\u001b[0m\u001b[0;34m)\u001b[0m\u001b[0;34m\u001b[0m\u001b[0;34m\u001b[0m\u001b[0m\n\u001b[0m\u001b[1;32m    320\u001b[0m \u001b[0;34m\u001b[0m\u001b[0m\n\u001b[1;32m    321\u001b[0m         \u001b[0;32mif\u001b[0m \u001b[0mJupyterDash\u001b[0m\u001b[0;34m.\u001b[0m\u001b[0m_in_colab\u001b[0m\u001b[0;34m:\u001b[0m\u001b[0;34m\u001b[0m\u001b[0;34m\u001b[0m\u001b[0m\n",
      "\u001b[0;32m~/.local/lib/python3.8/site-packages/retrying.py\u001b[0m in \u001b[0;36mwrapped_f\u001b[0;34m(*args, **kw)\u001b[0m\n\u001b[1;32m     47\u001b[0m             \u001b[0;34m@\u001b[0m\u001b[0msix\u001b[0m\u001b[0;34m.\u001b[0m\u001b[0mwraps\u001b[0m\u001b[0;34m(\u001b[0m\u001b[0mf\u001b[0m\u001b[0;34m)\u001b[0m\u001b[0;34m\u001b[0m\u001b[0;34m\u001b[0m\u001b[0m\n\u001b[1;32m     48\u001b[0m             \u001b[0;32mdef\u001b[0m \u001b[0mwrapped_f\u001b[0m\u001b[0;34m(\u001b[0m\u001b[0;34m*\u001b[0m\u001b[0margs\u001b[0m\u001b[0;34m,\u001b[0m \u001b[0;34m**\u001b[0m\u001b[0mkw\u001b[0m\u001b[0;34m)\u001b[0m\u001b[0;34m:\u001b[0m\u001b[0;34m\u001b[0m\u001b[0;34m\u001b[0m\u001b[0m\n\u001b[0;32m---> 49\u001b[0;31m                 \u001b[0;32mreturn\u001b[0m \u001b[0mRetrying\u001b[0m\u001b[0;34m(\u001b[0m\u001b[0;34m*\u001b[0m\u001b[0mdargs\u001b[0m\u001b[0;34m,\u001b[0m \u001b[0;34m**\u001b[0m\u001b[0mdkw\u001b[0m\u001b[0;34m)\u001b[0m\u001b[0;34m.\u001b[0m\u001b[0mcall\u001b[0m\u001b[0;34m(\u001b[0m\u001b[0mf\u001b[0m\u001b[0;34m,\u001b[0m \u001b[0;34m*\u001b[0m\u001b[0margs\u001b[0m\u001b[0;34m,\u001b[0m \u001b[0;34m**\u001b[0m\u001b[0mkw\u001b[0m\u001b[0;34m)\u001b[0m\u001b[0;34m\u001b[0m\u001b[0;34m\u001b[0m\u001b[0m\n\u001b[0m\u001b[1;32m     50\u001b[0m \u001b[0;34m\u001b[0m\u001b[0m\n\u001b[1;32m     51\u001b[0m             \u001b[0;32mreturn\u001b[0m \u001b[0mwrapped_f\u001b[0m\u001b[0;34m\u001b[0m\u001b[0;34m\u001b[0m\u001b[0m\n",
      "\u001b[0;32m~/.local/lib/python3.8/site-packages/retrying.py\u001b[0m in \u001b[0;36mcall\u001b[0;34m(self, fn, *args, **kwargs)\u001b[0m\n\u001b[1;32m    210\u001b[0m                 \u001b[0;32mif\u001b[0m \u001b[0;32mnot\u001b[0m \u001b[0mself\u001b[0m\u001b[0;34m.\u001b[0m\u001b[0m_wrap_exception\u001b[0m \u001b[0;32mand\u001b[0m \u001b[0mattempt\u001b[0m\u001b[0;34m.\u001b[0m\u001b[0mhas_exception\u001b[0m\u001b[0;34m:\u001b[0m\u001b[0;34m\u001b[0m\u001b[0;34m\u001b[0m\u001b[0m\n\u001b[1;32m    211\u001b[0m                     \u001b[0;31m# get() on an attempt with an exception should cause it to be raised, but raise just in case\u001b[0m\u001b[0;34m\u001b[0m\u001b[0;34m\u001b[0m\u001b[0;34m\u001b[0m\u001b[0m\n\u001b[0;32m--> 212\u001b[0;31m                     \u001b[0;32mraise\u001b[0m \u001b[0mattempt\u001b[0m\u001b[0;34m.\u001b[0m\u001b[0mget\u001b[0m\u001b[0;34m(\u001b[0m\u001b[0;34m)\u001b[0m\u001b[0;34m\u001b[0m\u001b[0;34m\u001b[0m\u001b[0m\n\u001b[0m\u001b[1;32m    213\u001b[0m                 \u001b[0;32melse\u001b[0m\u001b[0;34m:\u001b[0m\u001b[0;34m\u001b[0m\u001b[0;34m\u001b[0m\u001b[0m\n\u001b[1;32m    214\u001b[0m                     \u001b[0;32mraise\u001b[0m \u001b[0mRetryError\u001b[0m\u001b[0;34m(\u001b[0m\u001b[0mattempt\u001b[0m\u001b[0;34m)\u001b[0m\u001b[0;34m\u001b[0m\u001b[0;34m\u001b[0m\u001b[0m\n",
      "\u001b[0;32m~/.local/lib/python3.8/site-packages/retrying.py\u001b[0m in \u001b[0;36mget\u001b[0;34m(self, wrap_exception)\u001b[0m\n\u001b[1;32m    245\u001b[0m                 \u001b[0;32mraise\u001b[0m \u001b[0mRetryError\u001b[0m\u001b[0;34m(\u001b[0m\u001b[0mself\u001b[0m\u001b[0;34m)\u001b[0m\u001b[0;34m\u001b[0m\u001b[0;34m\u001b[0m\u001b[0m\n\u001b[1;32m    246\u001b[0m             \u001b[0;32melse\u001b[0m\u001b[0;34m:\u001b[0m\u001b[0;34m\u001b[0m\u001b[0;34m\u001b[0m\u001b[0m\n\u001b[0;32m--> 247\u001b[0;31m                 \u001b[0msix\u001b[0m\u001b[0;34m.\u001b[0m\u001b[0mreraise\u001b[0m\u001b[0;34m(\u001b[0m\u001b[0mself\u001b[0m\u001b[0;34m.\u001b[0m\u001b[0mvalue\u001b[0m\u001b[0;34m[\u001b[0m\u001b[0;36m0\u001b[0m\u001b[0;34m]\u001b[0m\u001b[0;34m,\u001b[0m \u001b[0mself\u001b[0m\u001b[0;34m.\u001b[0m\u001b[0mvalue\u001b[0m\u001b[0;34m[\u001b[0m\u001b[0;36m1\u001b[0m\u001b[0;34m]\u001b[0m\u001b[0;34m,\u001b[0m \u001b[0mself\u001b[0m\u001b[0;34m.\u001b[0m\u001b[0mvalue\u001b[0m\u001b[0;34m[\u001b[0m\u001b[0;36m2\u001b[0m\u001b[0;34m]\u001b[0m\u001b[0;34m)\u001b[0m\u001b[0;34m\u001b[0m\u001b[0;34m\u001b[0m\u001b[0m\n\u001b[0m\u001b[1;32m    248\u001b[0m         \u001b[0;32melse\u001b[0m\u001b[0;34m:\u001b[0m\u001b[0;34m\u001b[0m\u001b[0;34m\u001b[0m\u001b[0m\n\u001b[1;32m    249\u001b[0m             \u001b[0;32mreturn\u001b[0m \u001b[0mself\u001b[0m\u001b[0;34m.\u001b[0m\u001b[0mvalue\u001b[0m\u001b[0;34m\u001b[0m\u001b[0;34m\u001b[0m\u001b[0m\n",
      "\u001b[0;32m~/anaconda3/lib/python3.8/site-packages/six.py\u001b[0m in \u001b[0;36mreraise\u001b[0;34m(tp, value, tb)\u001b[0m\n\u001b[1;32m    701\u001b[0m             \u001b[0;32mif\u001b[0m \u001b[0mvalue\u001b[0m\u001b[0;34m.\u001b[0m\u001b[0m__traceback__\u001b[0m \u001b[0;32mis\u001b[0m \u001b[0;32mnot\u001b[0m \u001b[0mtb\u001b[0m\u001b[0;34m:\u001b[0m\u001b[0;34m\u001b[0m\u001b[0;34m\u001b[0m\u001b[0m\n\u001b[1;32m    702\u001b[0m                 \u001b[0;32mraise\u001b[0m \u001b[0mvalue\u001b[0m\u001b[0;34m.\u001b[0m\u001b[0mwith_traceback\u001b[0m\u001b[0;34m(\u001b[0m\u001b[0mtb\u001b[0m\u001b[0;34m)\u001b[0m\u001b[0;34m\u001b[0m\u001b[0;34m\u001b[0m\u001b[0m\n\u001b[0;32m--> 703\u001b[0;31m             \u001b[0;32mraise\u001b[0m \u001b[0mvalue\u001b[0m\u001b[0;34m\u001b[0m\u001b[0;34m\u001b[0m\u001b[0m\n\u001b[0m\u001b[1;32m    704\u001b[0m         \u001b[0;32mfinally\u001b[0m\u001b[0;34m:\u001b[0m\u001b[0;34m\u001b[0m\u001b[0;34m\u001b[0m\u001b[0m\n\u001b[1;32m    705\u001b[0m             \u001b[0mvalue\u001b[0m \u001b[0;34m=\u001b[0m \u001b[0;32mNone\u001b[0m\u001b[0;34m\u001b[0m\u001b[0;34m\u001b[0m\u001b[0m\n",
      "\u001b[0;32m~/.local/lib/python3.8/site-packages/retrying.py\u001b[0m in \u001b[0;36mcall\u001b[0;34m(self, fn, *args, **kwargs)\u001b[0m\n\u001b[1;32m    198\u001b[0m         \u001b[0;32mwhile\u001b[0m \u001b[0;32mTrue\u001b[0m\u001b[0;34m:\u001b[0m\u001b[0;34m\u001b[0m\u001b[0;34m\u001b[0m\u001b[0m\n\u001b[1;32m    199\u001b[0m             \u001b[0;32mtry\u001b[0m\u001b[0;34m:\u001b[0m\u001b[0;34m\u001b[0m\u001b[0;34m\u001b[0m\u001b[0m\n\u001b[0;32m--> 200\u001b[0;31m                 \u001b[0mattempt\u001b[0m \u001b[0;34m=\u001b[0m \u001b[0mAttempt\u001b[0m\u001b[0;34m(\u001b[0m\u001b[0mfn\u001b[0m\u001b[0;34m(\u001b[0m\u001b[0;34m*\u001b[0m\u001b[0margs\u001b[0m\u001b[0;34m,\u001b[0m \u001b[0;34m**\u001b[0m\u001b[0mkwargs\u001b[0m\u001b[0;34m)\u001b[0m\u001b[0;34m,\u001b[0m \u001b[0mattempt_number\u001b[0m\u001b[0;34m,\u001b[0m \u001b[0;32mFalse\u001b[0m\u001b[0;34m)\u001b[0m\u001b[0;34m\u001b[0m\u001b[0;34m\u001b[0m\u001b[0m\n\u001b[0m\u001b[1;32m    201\u001b[0m             \u001b[0;32mexcept\u001b[0m\u001b[0;34m:\u001b[0m\u001b[0;34m\u001b[0m\u001b[0;34m\u001b[0m\u001b[0m\n\u001b[1;32m    202\u001b[0m                 \u001b[0mtb\u001b[0m \u001b[0;34m=\u001b[0m \u001b[0msys\u001b[0m\u001b[0;34m.\u001b[0m\u001b[0mexc_info\u001b[0m\u001b[0;34m(\u001b[0m\u001b[0;34m)\u001b[0m\u001b[0;34m\u001b[0m\u001b[0;34m\u001b[0m\u001b[0m\n",
      "\u001b[0;32m~/anaconda3/lib/python3.8/site-packages/jupyter_dash/jupyter_app.py\u001b[0m in \u001b[0;36mwait_for_app\u001b[0;34m()\u001b[0m\n\u001b[1;32m    310\u001b[0m                     \u001b[0mhost\u001b[0m\u001b[0;34m=\u001b[0m\u001b[0mhost\u001b[0m\u001b[0;34m,\u001b[0m \u001b[0mport\u001b[0m\u001b[0;34m=\u001b[0m\u001b[0mport\u001b[0m\u001b[0;34m,\u001b[0m \u001b[0mtoken\u001b[0m\u001b[0;34m=\u001b[0m\u001b[0mJupyterDash\u001b[0m\u001b[0;34m.\u001b[0m\u001b[0m_token\u001b[0m\u001b[0;34m\u001b[0m\u001b[0;34m\u001b[0m\u001b[0m\n\u001b[1;32m    311\u001b[0m                 )\n\u001b[0;32m--> 312\u001b[0;31m                 raise OSError(\n\u001b[0m\u001b[1;32m    313\u001b[0m                     \u001b[0;34m\"Address '{url}' already in use.\\n\"\u001b[0m\u001b[0;34m\u001b[0m\u001b[0;34m\u001b[0m\u001b[0m\n\u001b[1;32m    314\u001b[0m                     \"    Try passing a different port to run_server.\".format(\n",
      "\u001b[0;31mOSError\u001b[0m: Address 'http://127.0.0.1:8050' already in use.\n    Try passing a different port to run_server."
     ]
    },
    {
     "name": "stderr",
     "output_type": "stream",
     "text": [
      "Exception in thread Thread-4:\n",
      "Traceback (most recent call last):\n",
      "  File \"/home/vessellook/anaconda3/lib/python3.8/threading.py\", line 932, in _bootstrap_inner\n",
      "    self.run()\n",
      "  File \"/home/vessellook/anaconda3/lib/python3.8/threading.py\", line 870, in run\n",
      "    self._target(*self._args, **self._kwargs)\n",
      "  File \"/home/vessellook/.local/lib/python3.8/site-packages/retrying.py\", line 49, in wrapped_f\n",
      "    return Retrying(*dargs, **dkw).call(f, *args, **kw)\n",
      "  File \"/home/vessellook/.local/lib/python3.8/site-packages/retrying.py\", line 212, in call\n",
      "    raise attempt.get()\n",
      "  File \"/home/vessellook/.local/lib/python3.8/site-packages/retrying.py\", line 247, in get\n",
      "    six.reraise(self.value[0], self.value[1], self.value[2])\n",
      "  File \"/home/vessellook/anaconda3/lib/python3.8/site-packages/six.py\", line 703, in reraise\n",
      "    raise value\n",
      "  File \"/home/vessellook/.local/lib/python3.8/site-packages/retrying.py\", line 200, in call\n",
      "    attempt = Attempt(fn(*args, **kwargs), attempt_number, False)\n",
      "  File \"/home/vessellook/anaconda3/lib/python3.8/site-packages/jupyter_dash/jupyter_app.py\", line 289, in run\n",
      "    super_run_server(**kwargs)\n",
      "  File \"/home/vessellook/.local/lib/python3.8/site-packages/dash/dash.py\", line 1718, in run_server\n",
      "    self.server.run(host=host, port=port, debug=debug, **flask_run_options)\n",
      "  File \"/home/vessellook/anaconda3/lib/python3.8/site-packages/flask/app.py\", line 990, in run\n",
      "    run_simple(host, port, self, **options)\n",
      "  File \"/home/vessellook/anaconda3/lib/python3.8/site-packages/werkzeug/serving.py\", line 1052, in run_simple\n",
      "    inner()\n",
      "  File \"/home/vessellook/anaconda3/lib/python3.8/site-packages/werkzeug/serving.py\", line 996, in inner\n",
      "    srv = make_server(\n",
      "  File \"/home/vessellook/anaconda3/lib/python3.8/site-packages/werkzeug/serving.py\", line 847, in make_server\n",
      "    return ThreadedWSGIServer(\n",
      "  File \"/home/vessellook/anaconda3/lib/python3.8/site-packages/werkzeug/serving.py\", line 740, in __init__\n",
      "    HTTPServer.__init__(self, server_address, handler)\n",
      "  File \"/home/vessellook/anaconda3/lib/python3.8/socketserver.py\", line 452, in __init__\n",
      "    self.server_bind()\n",
      "  File \"/home/vessellook/anaconda3/lib/python3.8/http/server.py\", line 138, in server_bind\n",
      "    socketserver.TCPServer.server_bind(self)\n",
      "  File \"/home/vessellook/anaconda3/lib/python3.8/socketserver.py\", line 466, in server_bind\n",
      "    self.socket.bind(self.server_address)\n",
      "OSError: [Errno 98] Address already in use\n"
     ]
    }
   ],
   "source": [
    "# without ray\n",
    "\n",
    "fig = go.Figure(\n",
    "    data=[cylinder.surface(n, m), xOy, y_eq_r], layout=fig_layout\n",
    ")\n",
    "\n",
    "app = JupyterDash(__name__)\n",
    "app.layout = html.Div(\n",
    "    [html.H1(\"Geometry \"),\n",
    "     dcc.Graph(id=\"graph\", figure=fig)]\n",
    ")\n",
    "\n",
    "app.run_server(mode=\"jupyterlab\" if is_jupyterlab_running()\n",
    "               else \"inline\", port=8050 if is_jupyterlab_running() else 8051)"
   ]
  },
  {
   "cell_type": "code",
   "execution_count": null,
   "metadata": {},
   "outputs": [],
   "source": [
    "# with ray\n",
    "\n",
    "start_c_vector = problem.get_c(x=0, z=h / 2)\n",
    "start_ray = problem.get_ray(c=start_c_vector)\n",
    "\n",
    "fig = go.Figure(\n",
    "    data=[cylinder.surface(n, m), xOy, y_eq_r, start_ray.trace], layout=fig_layout\n",
    ")\n",
    "\n",
    "app = JupyterDash(__name__)\n",
    "app.layout = html.Div(\n",
    "    [html.H1(\"Geometry \"),\n",
    "     dcc.Graph(id=\"graph\", figure=fig, animate=True, animation_options={\"frame\":{\"redraw\":True}}),\n",
    "     html.P(id=\"stdout\"), html.P(id=\"stderr\", style={\"color\": \"#f00\"})]\n",
    ")\n",
    "\n",
    "\n",
    "@app.callback(\n",
    "    Output(\"graph\", \"figure\"),\n",
    "    Output(\"stdout\", \"children\"),\n",
    "    Output(\"stderr\", \"children\"),\n",
    "    Input(\"graph\", \"clickData\"),\n",
    "    State(\"graph\", \"figure\"),\n",
    ")\n",
    "def update_ray(click_data, figure):\n",
    "    if click_data is None:\n",
    "        raise PreventUpdate\n",
    "    try:\n",
    "        figure[\"layout\"][\"scene\"]\n",
    "        data = click_data[\"points\"][0]\n",
    "        point = Vector(data[\"x\"], data[\"y\"], data[\"z\"])\n",
    "        label = surface_labels[data[\"curveNumber\"]]\n",
    "        if label == \"cylinder\":\n",
    "            ray = problem.get_ray(c=point)\n",
    "        elif label == \"xOy\":\n",
    "            ray = problem.get_ray(a=point)\n",
    "        elif label == \"y=r\":\n",
    "            ray = problem.get_ray(e=point)\n",
    "        else:\n",
    "            return no_update, str(data), \"another surface\"\n",
    "        if ray.c.y < problem.r ** 2 / (problem.r + problem.d):\n",
    "            return no_update, str(data), \"point C is not seen\"\n",
    "        figure[\"data\"][3] = ray.trace\n",
    "        return figure, html.Div([html.P(str(data)),\n",
    "                                 html.P(f\"a = {ray.a}\"),\n",
    "                                 html.P(f\"c = {ray.c}\"),\n",
    "                                 html.P(f\"e = {ray.e}\"),\n",
    "                                 html.P(f\"f = {ray.f}\")]), no_update\n",
    "    except BaseException as e:\n",
    "        return no_update, str(data), html.Div([\n",
    "            html.P(str(data)),\n",
    "            html.Pre(\n",
    "                ''.join(traceback.TracebackException.from_exception(e).format())),\n",
    "            html.P('base exception')\n",
    "        ])\n",
    "\n",
    "\n",
    "app.run_server(mode=\"jupyterlab\" if is_jupyterlab_running()\n",
    "               else \"inline\", port=8050 if is_jupyterlab_running() else 8051)"
   ]
  },
  {
   "cell_type": "markdown",
   "metadata": {
    "tags": []
   },
   "source": [
    "# Формальные условия"
   ]
  },
  {
   "cell_type": "markdown",
   "metadata": {},
   "source": [
    "$$r > 0, h > 0, d > 0$$\n",
    "$$x_A^2 + y_A^2 > r^2$$\n",
    "\n",
    "$$x_C^2 + y_C^2 = r^2$$\n",
    "$$0 \\le z_C < h$$\n",
    "\n",
    "$$\\begin{vmatrix} 0 & x_A & x_C\\\\ r+d & y_A & y_C \\\\ h - z_C & - z_C & 0 \\end{vmatrix} = 0$$\n",
    "\n",
    "$$\\frac{\\sqrt{(x_C - x_A)^2 + (y_C - y_A)^2 + z_C^2}}{\\sqrt{x_C^2 + (r + d - y_C)^2 + (h - z_C)^2}} = \\frac{z_C}{h - z_C}$$\n",
    "\n",
    "$$\\frac{x_C - x_E}{x_C} = \\frac{r - y_C}{r + d - y_C} = \\frac{z_E - z_C}{h - z_C}$$"
   ]
  },
  {
   "cell_type": "markdown",
   "metadata": {
    "tags": []
   },
   "source": [
    "# Известно C, нужно найти A"
   ]
  },
  {
   "cell_type": "markdown",
   "metadata": {},
   "source": [
    "Преобразование определителя (7)\n",
    "$$\\begin{vmatrix} 0 & x_A & x_C\\\\ r+d & y_A & y_C \\\\ h - z_C & - z_C & 0 \\end{vmatrix} = 0$$\n",
    "\n",
    "$$0\\cdot y_A\\cdot 0 + x_A\\cdot y_C\\cdot(h - z_C) + x_C\\cdot(r+d)\\cdot(-z_C) - x_C\\cdot y_A\\cdot(h-z_C) - x_A\\cdot(r+d)\\cdot 0 - 0\\cdot y_C\\cdot(-z_C) = 0$$\n",
    "\n",
    "$$x_A\\cdot y_C\\cdot(h - z_C) + x_C\\cdot(r+d)\\cdot(-z_C) - x_C\\cdot y_A\\cdot(h-z_C) = 0$$\n",
    "\n",
    "$$y_A = \\frac{x_A\\cdot y_C\\cdot(h - z_C) + x_C\\cdot(r+d)\\cdot(-z_C)}{x_C\\cdot(h-z_C)}  $$\n",
    "\n",
    "Преобразование отношения длин (8)\n",
    "\n",
    "$$\\frac{\\sqrt{(x_C - x_A)^2 + (y_C - y_A)^2 + z_C^2}}{\\sqrt{x_C^2 + (r + d - y_C)^2 + (h - z_C)^2}} = \\frac{z_C}{h - z_C}$$\n",
    "\n",
    "$$\\frac{(x_C - x_A)^2 + (y_C - y_A)^2 + z_C^2}{x_C^2 + (r + d - y_C)^2 + (h - z_C)^2} = \\frac{z_C^2}{(h - z_C)^2}$$\n",
    "\n",
    "преобразование $\\frac{a+b}{c+d} = \\frac{a}{c} \\Leftrightarrow \\frac{a}{c} = \\frac{b}{d}$\n",
    "\n",
    "$$\\frac{(x_C - x_A)^2 + (y_C - y_A)^2}{x_C^2 + (r + d - y_C)^2} = \\frac{z_C^2}{(h - z_C)^2}$$                       \n",
    "\n",
    "$$(x_C - x_A)^2 + (y_C - y_A)^2 = \\frac{z_C^2}{(h - z_C)^2}(x_C^2 + (r + d - y_C)^2)$$\n",
    "\n",
    "Подстановка формулы (13) в формулу (17)\n",
    "\n",
    "$$(x_C - x_A)^2 + \\left(y_C - \\frac{x_A\\cdot y_C\\cdot(h - z_C) + x_C\\cdot(r+d)\\cdot(-z_C)}{x_C\\cdot(h-z_C)}\\right)^2 = \\frac{z_C^2}{(h - z_C)^2}(x_C^2 + (r + d - y_C)^2)$$\n",
    "\n",
    "Некоторые преобразования\n",
    "\n",
    "$$(x_C - x_A)^2 + \\left(\\frac{y_C}{x_C}(x_C - x_A) + \\frac{z_C}{h-z_C}(r+d)\\right)^2 = \\frac{z_C^2}{(h - z_C)^2}(x_C^2 + (r + d)^2 - 2y_C(r + d) + y_C^2)$$\n",
    "\n",
    "$$(x_C - x_A)^2 + \\frac{y_C^2}{x_C^2}(x_C - x_A)^2 + 2\\frac{y_C\\cdot z_C}{x_C(h - z_C)}(x_C - x_A)(r + d) + \\frac{z_C^2}{(h - z_C)^2}(r + d)^2 = \\frac{z_C^2}{(h - z_C)^2}(x_C^2 + y_C^2) + \\frac{z_C^2}{(h - z_C)^2}(r + d)^2 - 2\\frac{z_C^2}{(h - z_C)^2}y_C(r + d)$$\n",
    "\n",
    "$$\\frac{r^2}{x_C^2}(x_A^2 + x_C^2 - 2x_A\\cdot x_C)^2 + 2\\frac{y_C\\cdot z_C}{x_C(h - z_C)}(x_C - x_A)(r + d) = \\frac{z_C^2}{(h - z_C)^2}r^2 - 2\\frac{z_C^2}{(h - z_C)^2}y_C(r + d)$$\n",
    "\n",
    "$$\\frac{r^2}{x_C^2}(x_A^2 + x_C^2 - 2x_A\\cdot x_C) + 2\\frac{y_C\\cdot z_C}{x_C(h - z_C)}(x_C - x_A)(r + d) = \\frac{z_C^2}{(h - z_C)^2}r^2 - 2\\frac{z_C^2}{(h - z_C)^2}y_C(r + d)$$\n",
    "\n",
    "Получается квадратный трёхчлен относительно переменной $x_A$. Приведение трёхчлена к стандартному виду\n",
    "\n",
    "$$\\frac{r^2}{x_C^2}x_A^2 + x_A\\left(\\frac{r^2}{x_C^2}(-2x_C) - 2\\frac{y_C\\cdot z_C}{x_C(h - z_C)}(r + d)\\right) + \\left(r^2 + 2\\frac{y_C\\cdot z_C}{h - z_C}(r + d) + 2\\frac{z_C^2}{(h - z_C)^2}y_C(r+d) - \\frac{z_C^2}{(h - z_C)^2}r^2\\right) = 0$$\n",
    "\n",
    "$$\\frac{r^2}{x_C^2}x_A^2 - 2x_A\\left(\\frac{r^2}{x_C} + \\frac{y_C\\cdot z_C}{x_C(h - z_C)}(r + d)\\right) + \\left(r^2 + 2\\frac{y_C\\cdot z_C\\cdot h}{(h - z_C)^2}(r+d) - \\frac{z_C^2}{(h - z_C)^2}r^2\\right) = 0$$\n",
    "\n",
    "Вычисление дискриминанта\n",
    "\n",
    "$$D = 4\\left(\\frac{r^2}{x_C} + \\frac{y_C\\cdot z_C}{x_C(h - z_C)}(r + d)\\right)^2 - 4\\frac{r^2}{x_C^2} \\left(r^2 + 2\\frac{y_C\\cdot z_C\\cdot h}{(h - z_C)^2}(r+d) - \\frac{z_C^2}{(h - z_C)^2}r^2\\right)$$\n",
    "\n",
    "$$D = 4\\left(\\frac{r^4}{x_C^2} + \\frac{y_C^2 z_C^2}{x_C^2(h - z_C)^2}(r + d)^2 + 2\\frac{r^2y_C\\cdot z_C}{x_C^2(h - z_C)}(r + d) \\right) - 4\\left(\\frac{r^4}{x_C^2} + 2\\frac{r^2 y_C\\cdot z_C\\cdot h}{x_C^2(h - z_C)^2}(r+d) - \\frac{r^2 z_C^2}{x_C^2(h - z_C)^2}r^2\\right)$$\n",
    "\n",
    "$$D = 4\\left(\\frac{y_C^2 z_C^2}{x_C^2(h - z_C)^2}(r + d)^2 + 2\\frac{r^2y_C\\cdot z_C}{x_C^2(h - z_C)}(r + d) \\right) - 4\\left(2\\frac{r^2 y_C\\cdot z_C\\cdot h}{x_C^2(h - z_C)^2}(r+d) - \\frac{r^2 z_C^2}{x_C^2(h - z_C)^2}r^2\\right)$$\n",
    "\n",
    "$$D = 4\\left(\\frac{y_C^2 z_C^2}{x_C^2(h - z_C)^2}(r + d)^2 - 2\\frac{r^2y_C\\cdot z_C^2}{x_C^2(h - z_C)^2}(r + d) + \\frac{r^2 z_C^2}{x_C^2(h - z_C)^2}r^2\\right)$$\n",
    "\n",
    "$$D = 4\\frac{z_C^2}{x_C^2(h - z_C)^2}(y_C^2(r + d)^2 - 2r^2y_C(r + d) + r^4)$$\n",
    "\n",
    "$$D = 4\\frac{z_C^2}{x_C^2(h - z_C)^2}(y_C(r + d) - r^2)^2$$\n",
    "\n",
    "$$x_A = \\frac{\\left(\\frac{r^2}{x_C} + \\frac{z_C}{x_C(h - z_C)}y_C(r + d)\\right) \\pm \\frac{z_C}{x_C(h - z_C)}(y_C(r + d) - r^2)}{\\frac{r^2}{x_C^2}}$$\n",
    "\n",
    "Получаются два решения\n",
    "$$x_{A_1} = \\frac{h\\cdot x_C}{h - z_C}$$\n",
    "или\n",
    "$$x_{A_2} = \\frac{h - 2z_C}{h - z_C}x_C + 2\\frac{x_C\\cdot y_C\\cdot z_C}{r^2 (h - z_C)}(r + d)$$\n",
    "\n",
    "Подставляем формулу (32) в формулу (14)\n",
    "\n",
    "$$y_{A_1} = \\frac{h \\cdot y_C - z_C(r+d)}{(h-z_C)}$$\n",
    "\n",
    "Подставляем формулу (33) в формулу (14)\n",
    "\n",
    "$$y_{A_2} = \\frac{h - 2z_C}{h - z_C}y_C + 2\\frac{y_C^2 z_C}{r^2(h - z_C)}(r + d) - \\frac{z_C}{h - z_C}(r + d)$$\n",
    "\n",
    "$$y_{A_2} = \\frac{h - 2z_C}{h - z_C}y_C + \\frac{(y_C^2 - x_C^2) z_C}{r^2(h - z_C)}(r + d)$$"
   ]
  },
  {
   "cell_type": "markdown",
   "metadata": {},
   "source": [
    "## Анализ результатов"
   ]
  },
  {
   "cell_type": "markdown",
   "metadata": {},
   "source": [
    "Были применены два требования: точки $F, A, B, C$ лежат в одной плоскости, и расстояния от точек $A$ и $F$ до $C$ пропорциональны длинам перпендикуляров из $AH_A$ и $FH_F$ на плоскость $z = z_C$. Получились две точки, потому что под эти требования подходит ещё и точка пересечения прямой $FC$ и плоскости $xOy$, но она не подходит под исходные требования. Теперь нужно определить, какая из двух точек лишняя\n",
    "\n",
    "Рассмотрим задачу при значениях $r=1, h=2, d=1$, $x_C = 0, y_C = 1, z_C = 1$. Тогда $x_{A_1} = 0, x_{A_2} = 0, y_{A_1} = 0, y_{A_2} = 2$. Точка $A_1$ не соответствует неравенству (4). Следовательно, искомой является точка $A_2$, $A\\equiv A_2$\n",
    "\n",
    "$$x_A = \\frac{h - 2z_C}{h - z_C}x_C + 2\\frac{x_C\\cdot y_C\\cdot z_C}{r^2 (h - z_C)}(r + d)$$\n",
    "\n",
    "$$y_A = \\frac{h - 2z_C}{h - z_C}y_C + \\frac{(y_C^2 - x_C^2) z_C}{r^2(h - z_C)}(r + d)$$"
   ]
  },
  {
   "cell_type": "markdown",
   "metadata": {},
   "source": [
    "# Известно C, нужно найти E"
   ]
  },
  {
   "cell_type": "markdown",
   "metadata": {},
   "source": [
    "Выразим $x_E$ и $z_E$ из (9) и (5)\n",
    "\n",
    "$$\\frac{x_C - x_E}{x_C} = \\frac{r - y_C}{r + d - y_C} = \\frac{z_E - z_C}{h - z_C}$$\n",
    "\n",
    "$$\\frac{x_C - x_E}{x_C} = \\frac{r - y_C}{r + d - y_C}$$\n",
    "\n",
    "$$x_E(r+d-y_C) = x_C d$$\n",
    "\n",
    "$$x_E = \\frac{x_Cd}{r+d-y_C}$$\n",
    "\n",
    "$$\\frac{r - y_C}{r + d - y_C} = \\frac{z_E - z_C}{h - z_C}$$\n",
    "\n",
    "$$rh-y_Ch+z_Cd = z_E(r+d-y_C)$$\n",
    "\n",
    "$$z_E=\\frac{(r-y_C)h+z_Cd}{r+d-y_C}$$\n"
   ]
  },
  {
   "cell_type": "code",
   "execution_count": null,
   "metadata": {},
   "outputs": [],
   "source": []
  }
 ],
 "metadata": {
  "hide_input": false,
  "kernelspec": {
   "display_name": "Python 3",
   "language": "python",
   "name": "python3"
  },
  "language_info": {
   "codemirror_mode": {
    "name": "ipython",
    "version": 3
   },
   "file_extension": ".py",
   "mimetype": "text/x-python",
   "name": "python",
   "nbconvert_exporter": "python",
   "pygments_lexer": "ipython3",
   "version": "3.8.10"
  },
  "latex_envs": {
   "LaTeX_envs_menu_present": true,
   "autoclose": false,
   "autocomplete": true,
   "bibliofile": "biblio.bib",
   "cite_by": "apalike",
   "current_citInitial": 1,
   "eqLabelWithNumbers": true,
   "eqNumInitial": 1,
   "hotkeys": {
    "equation": "Ctrl-E",
    "itemize": "Ctrl-I"
   },
   "labels_anchors": false,
   "latex_user_defs": false,
   "report_style_numbering": false,
   "user_envs_cfg": false
  },
  "toc": {
   "base_numbering": 1,
   "nav_menu": {
    "height": "343px",
    "width": "256.6px"
   },
   "number_sections": true,
   "sideBar": true,
   "skip_h1_title": false,
   "title_cell": "Table of Contents",
   "title_sidebar": "Contents",
   "toc_cell": false,
   "toc_position": {},
   "toc_section_display": true,
   "toc_window_display": false
  },
  "varInspector": {
   "cols": {
    "lenName": 16,
    "lenType": 16,
    "lenVar": 40
   },
   "kernels_config": {
    "python": {
     "delete_cmd_postfix": "",
     "delete_cmd_prefix": "del ",
     "library": "var_list.py",
     "varRefreshCmd": "print(var_dic_list())"
    },
    "r": {
     "delete_cmd_postfix": ") ",
     "delete_cmd_prefix": "rm(",
     "library": "var_list.r",
     "varRefreshCmd": "cat(var_dic_list()) "
    }
   },
   "position": {
    "height": "619.583px",
    "left": "1005.5px",
    "right": "20px",
    "top": "113px",
    "width": "405.733px"
   },
   "types_to_exclude": [
    "module",
    "function",
    "builtin_function_or_method",
    "instance",
    "_Feature"
   ],
   "window_display": false
  }
 },
 "nbformat": 4,
 "nbformat_minor": 4
}
