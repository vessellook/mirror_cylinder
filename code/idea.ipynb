{
 "cells": [
  {
   "cell_type": "markdown",
   "metadata": {
    "tags": []
   },
   "source": [
    "# Анаморфные картины"
   ]
  },
  {
   "cell_type": "markdown",
   "metadata": {},
   "source": [
    "![<Здесь должно быть изображение>](../img/anamorf.jpg  \"Анаморфное изображение\")\n",
    "\n",
    "Анаморфное изображение &mdash; это искажённое изображение на неровной поверхности, которое с определённой точки зрения становится ровным\n",
    "\n",
    "Сходные вещи освещены здесь\n",
    "- [Мадоннари](https://ru.wikipedia.org/wiki/%D0%9C%D0%B0%D0%B4%D0%BE%D0%BD%D0%BD%D0%B0%D1%80%D0%B8) на Википедии\n",
    "- [Анаморфоз](https://ru.wikipedia.org/wiki/%D0%90%D0%BD%D0%B0%D0%BC%D0%BE%D1%80%D1%84%D0%BE%D0%B7_(%D0%B8%D1%81%D0%BA%D1%83%D1%81%D1%81%D1%82%D0%B2%D0%BE)) на Википедии\n",
    "\n",
    "Существуют такие изображения пейзажа, что если поставить в определённую точку зеркальный цилиндр, пейзаж отобразится в нём в какое-то другое изображение, например, портрет человека"
   ]
  },
  {
   "cell_type": "markdown",
   "metadata": {
    "tags": []
   },
   "source": [
    "# Цель"
   ]
  },
  {
   "cell_type": "markdown",
   "metadata": {},
   "source": [
    "Цель проекта: научиться по имеющемуся \"портрету\" создавать \"пейзаж\". Более амбициозная задача: создать редактор с окнами \"Пейзаж\" и \"Портрет\", при редактировании в одном окне меняется и другое"
   ]
  },
  {
   "cell_type": "markdown",
   "metadata": {
    "tags": []
   },
   "source": [
    "# Постановка геометрической задачи"
   ]
  },
  {
   "cell_type": "markdown",
   "metadata": {},
   "source": [
    "Задаётся система декартовых координат. Существует цилиндр радиуса $r$ с осью $Oz$. На расстоянии $d$ от его поверхности и на высоте $h$ от плоскости $xOy$ находится точка зрения $F = (0, r + d, h)$. Проводится плоскость $\\Pi: y = r$\n",
    "\n",
    "Луч света выходит из точки $F$, проходит через точку $E = (x_E, r, z_E)$ плоскости $\\Pi$, попадает в точку $C = (x_C, y_C, z_C)$ поверхности цилиндра, отражается от неё и попадает в точку $A = (x_A, y_A, 0)$ на $xOy$\n",
    "\n",
    "Для света есть два правила: \n",
    " - угол падения света равен углу отражения\n",
    " - падающий и отражённый лучи лежат в одной плоскости с перпендикуляром к поверхности\n",
    "Для описания этих углов вводится точка $B = (0, 0, z_C)$, которая является основанием перпендикуляра из $C$ на ось цилиндра. То есть угол $ACB$ равен углу $FCB$ и точки $A, B, C, F$ лежат в одной плоскости, а $C, E, F$ на одной прямой\n",
    "\n",
    "Высчитывать углы неудобно, поэтому используется следствие из равенства углов: $BC$ биссектриса угла $ACF$. Отметим точку $M$ как пересечение $AF$ и $BC$. В таком случае по свойству биссектрисы верно соотношение\n",
    "$$\\frac{AC}{FC} = \\frac{AM}{FM}$$\n",
    "Если опустить перпендикуляры из $AH_A$ и $FH_F$ на плоскость $\\sigma: z = z_C$, то из подобия треугольников $AH_AM$ и $FH_FM$ слеует\n",
    "$$\\frac{AC}{FC} = \\frac{AM}{FM} = \\frac{AH_A}{FH_F} = \\frac{z_C}{h - z_C}$$\n",
    "\n",
    "Итак, величины $r$, $h$ и $d$ задаются как параметры. Нужно научиться выражать одну из точек $A, C, E$ через другую"
   ]
  },
  {
   "cell_type": "markdown",
   "metadata": {
    "tags": []
   },
   "source": [
    "## Визуализация задачи"
   ]
  },
  {
   "cell_type": "code",
   "execution_count": 1,
   "metadata": {
    "ExecuteTime": {
     "end_time": "2021-05-27T20:44:55.737484Z",
     "start_time": "2021-05-27T20:44:54.792132Z"
    },
    "tags": []
   },
   "outputs": [],
   "source": [
    "import numpy as np\n",
    "import pandas as pd\n",
    "\n",
    "import plotly.express as px\n",
    "import plotly.graph_objects as go\n",
    "from plotly.subplots import make_subplots\n",
    "import dash_core_components as dcc\n",
    "import dash_html_components as html\n",
    "from dash import no_update\n",
    "from dash.dependencies import Input, Output, State\n",
    "from dash.exceptions import PreventUpdate\n",
    "from jupyter_dash import JupyterDash\n",
    "\n",
    "from is_jupyterlab_running import is_jupyterlab_running\n",
    "from problem import Problem, Vector, VectorRegressor\n",
    "from problem.figures import Cylinder\n",
    "\n",
    "import traceback"
   ]
  },
  {
   "cell_type": "code",
   "execution_count": 2,
   "metadata": {
    "ExecuteTime": {
     "end_time": "2021-05-27T20:44:56.937709Z",
     "start_time": "2021-05-27T20:44:56.920387Z"
    },
    "tags": []
   },
   "outputs": [],
   "source": [
    "r = 100\n",
    "h = 200\n",
    "d = 100\n",
    "n, m = 100, 100\n",
    "problem = Problem(r=r, d=d, h=h)"
   ]
  },
  {
   "cell_type": "code",
   "execution_count": 3,
   "metadata": {
    "ExecuteTime": {
     "end_time": "2021-05-27T21:31:23.467758Z",
     "start_time": "2021-05-27T21:31:23.065849Z"
    },
    "code_folding": [],
    "scrolled": true,
    "tags": []
   },
   "outputs": [],
   "source": [
    "cylinder = Cylinder(r=r, h=h, d=d)\n",
    "\n",
    "xOy = go.Surface(\n",
    "    x=np.outer(np.ones(n), np.linspace(-4 * r, 4 * r, m)),\n",
    "    y=np.outer(np.linspace(-4 * r, 2 * r + 2 * d, n), np.ones(m)),\n",
    "    z=np.outer(np.zeros(n), np.zeros(m)),\n",
    ")\n",
    "\n",
    "y_eq_r = go.Surface(\n",
    "    x=np.outer(np.ones(n), np.linspace(-4 * r, 4 * r, m)),\n",
    "    y=r * np.outer(np.ones(n), np.ones(m)),\n",
    "    z=np.outer(np.linspace(0, h, n), np.ones(m)),\n",
    "    opacity=0.7,\n",
    "    colorscale=[[0, \"orange\"], [1, \"orange\"]],\n",
    ")\n",
    "\n",
    "fig_layout = dict(\n",
    "    scene=dict(\n",
    "        xaxis=dict(nticks=4, range=[-4 * r, 4 * r],),\n",
    "        yaxis=dict(nticks=4, range=[-4 * r, 2 * r + 2 * d],),\n",
    "        zaxis=dict(nticks=4, range=[-h, h],),\n",
    "        aspectratio=dict(x=1, y=1, z=1),\n",
    "    ),\n",
    "    height=1000,\n",
    ")\n",
    "\n",
    "surface_labels = [\"cylinder\", \"xOy\", \"y=r\", \"ray\"]"
   ]
  },
  {
   "cell_type": "code",
   "execution_count": 4,
   "metadata": {},
   "outputs": [],
   "source": [
    "# without ray\n",
    "\n",
    "fig = go.Figure(\n",
    "    data=[cylinder.surface(n, m), xOy, y_eq_r], layout=fig_layout\n",
    ")\n",
    "\n",
    "app = JupyterDash(__name__)\n",
    "app.layout = html.Div(\n",
    "    [html.H1(\"Geometry \"),\n",
    "     dcc.Graph(id=\"graph\", figure=fig)]\n",
    ")\n",
    "\n",
    "app.run_server(mode=\"jupyterlab\" if is_jupyterlab_running()\n",
    "               else \"inline\", port=8050 if is_jupyterlab_running() else 8051)"
   ]
  },
  {
   "cell_type": "code",
   "execution_count": 5,
   "metadata": {},
   "outputs": [
    {
     "ename": "ValueError",
     "evalue": "\n    Invalid element(s) received for the 'data' property of \n        Invalid elements include: [<bound method Ray.trace of Ray(a=Vector(x=0.0, y=200.0, z=0), c=Vector(x=0, y=100.0, z=100.0), e=Vector(x=0.0, y=0, z=100.0), f=Vector(x=0, y=200, z=200))>]\n\n    The 'data' property is a tuple of trace instances\n    that may be specified as:\n      - A list or tuple of trace instances\n        (e.g. [Scatter(...), Bar(...)])\n      - A single trace instance\n        (e.g. Scatter(...), Bar(...), etc.)\n      - A list or tuple of dicts of string/value properties where:\n        - The 'type' property specifies the trace type\n            One of: ['area', 'bar', 'barpolar', 'box',\n                     'candlestick', 'carpet', 'choropleth',\n                     'choroplethmapbox', 'cone', 'contour',\n                     'contourcarpet', 'densitymapbox', 'funnel',\n                     'funnelarea', 'heatmap', 'heatmapgl',\n                     'histogram', 'histogram2d',\n                     'histogram2dcontour', 'image', 'indicator',\n                     'isosurface', 'mesh3d', 'ohlc', 'parcats',\n                     'parcoords', 'pie', 'pointcloud', 'sankey',\n                     'scatter', 'scatter3d', 'scattercarpet',\n                     'scattergeo', 'scattergl', 'scattermapbox',\n                     'scatterpolar', 'scatterpolargl',\n                     'scatterternary', 'splom', 'streamtube',\n                     'sunburst', 'surface', 'table', 'treemap',\n                     'violin', 'volume', 'waterfall']\n\n        - All remaining properties are passed to the constructor of\n          the specified trace type\n\n        (e.g. [{'type': 'scatter', ...}, {'type': 'bar, ...}])",
     "output_type": "error",
     "traceback": [
      "\u001b[0;31m---------------------------------------------------------------------------\u001b[0m",
      "\u001b[0;31mValueError\u001b[0m                                Traceback (most recent call last)",
      "\u001b[0;32m<ipython-input-5-8735f6c0786b>\u001b[0m in \u001b[0;36m<module>\u001b[0;34m\u001b[0m\n\u001b[1;32m      4\u001b[0m \u001b[0mstart_ray\u001b[0m \u001b[0;34m=\u001b[0m \u001b[0mproblem\u001b[0m\u001b[0;34m.\u001b[0m\u001b[0mget_ray\u001b[0m\u001b[0;34m(\u001b[0m\u001b[0mc\u001b[0m\u001b[0;34m=\u001b[0m\u001b[0mstart_c_vector\u001b[0m\u001b[0;34m)\u001b[0m\u001b[0;34m\u001b[0m\u001b[0;34m\u001b[0m\u001b[0m\n\u001b[1;32m      5\u001b[0m \u001b[0;34m\u001b[0m\u001b[0m\n\u001b[0;32m----> 6\u001b[0;31m fig = go.Figure(\n\u001b[0m\u001b[1;32m      7\u001b[0m     \u001b[0mdata\u001b[0m\u001b[0;34m=\u001b[0m\u001b[0;34m[\u001b[0m\u001b[0mcylinder\u001b[0m\u001b[0;34m.\u001b[0m\u001b[0msurface\u001b[0m\u001b[0;34m(\u001b[0m\u001b[0mn\u001b[0m\u001b[0;34m,\u001b[0m \u001b[0mm\u001b[0m\u001b[0;34m)\u001b[0m\u001b[0;34m,\u001b[0m \u001b[0mxOy\u001b[0m\u001b[0;34m,\u001b[0m \u001b[0my_eq_r\u001b[0m\u001b[0;34m,\u001b[0m \u001b[0mstart_ray\u001b[0m\u001b[0;34m.\u001b[0m\u001b[0mtrace\u001b[0m\u001b[0;34m]\u001b[0m\u001b[0;34m,\u001b[0m \u001b[0mlayout\u001b[0m\u001b[0;34m=\u001b[0m\u001b[0mfig_layout\u001b[0m\u001b[0;34m\u001b[0m\u001b[0;34m\u001b[0m\u001b[0m\n\u001b[1;32m      8\u001b[0m )\n",
      "\u001b[0;32m~/.local/lib/python3.8/site-packages/plotly/graph_objs/_figure.py\u001b[0m in \u001b[0;36m__init__\u001b[0;34m(self, data, layout, frames, skip_invalid, **kwargs)\u001b[0m\n\u001b[1;32m    594\u001b[0m             \u001b[0;32mis\u001b[0m \u001b[0minvalid\u001b[0m \u001b[0mAND\u001b[0m \u001b[0mskip_invalid\u001b[0m \u001b[0;32mis\u001b[0m \u001b[0;32mFalse\u001b[0m\u001b[0;34m\u001b[0m\u001b[0;34m\u001b[0m\u001b[0m\n\u001b[1;32m    595\u001b[0m         \"\"\"\n\u001b[0;32m--> 596\u001b[0;31m         \u001b[0msuper\u001b[0m\u001b[0;34m(\u001b[0m\u001b[0mFigure\u001b[0m\u001b[0;34m,\u001b[0m \u001b[0mself\u001b[0m\u001b[0;34m)\u001b[0m\u001b[0;34m.\u001b[0m\u001b[0m__init__\u001b[0m\u001b[0;34m(\u001b[0m\u001b[0mdata\u001b[0m\u001b[0;34m,\u001b[0m \u001b[0mlayout\u001b[0m\u001b[0;34m,\u001b[0m \u001b[0mframes\u001b[0m\u001b[0;34m,\u001b[0m \u001b[0mskip_invalid\u001b[0m\u001b[0;34m,\u001b[0m \u001b[0;34m**\u001b[0m\u001b[0mkwargs\u001b[0m\u001b[0;34m)\u001b[0m\u001b[0;34m\u001b[0m\u001b[0;34m\u001b[0m\u001b[0m\n\u001b[0m\u001b[1;32m    597\u001b[0m \u001b[0;34m\u001b[0m\u001b[0m\n\u001b[1;32m    598\u001b[0m     def add_area(\n",
      "\u001b[0;32m~/.local/lib/python3.8/site-packages/plotly/basedatatypes.py\u001b[0m in \u001b[0;36m__init__\u001b[0;34m(self, data, layout_plotly, frames, skip_invalid, **kwargs)\u001b[0m\n\u001b[1;32m    514\u001b[0m \u001b[0;34m\u001b[0m\u001b[0m\n\u001b[1;32m    515\u001b[0m         \u001b[0;31m# ### Import traces ###\u001b[0m\u001b[0;34m\u001b[0m\u001b[0;34m\u001b[0m\u001b[0;34m\u001b[0m\u001b[0m\n\u001b[0;32m--> 516\u001b[0;31m         data = self._data_validator.validate_coerce(\n\u001b[0m\u001b[1;32m    517\u001b[0m             \u001b[0mdata\u001b[0m\u001b[0;34m,\u001b[0m \u001b[0mskip_invalid\u001b[0m\u001b[0;34m=\u001b[0m\u001b[0mskip_invalid\u001b[0m\u001b[0;34m,\u001b[0m \u001b[0m_validate\u001b[0m\u001b[0;34m=\u001b[0m\u001b[0mself\u001b[0m\u001b[0;34m.\u001b[0m\u001b[0m_validate\u001b[0m\u001b[0;34m\u001b[0m\u001b[0;34m\u001b[0m\u001b[0m\n\u001b[1;32m    518\u001b[0m         )\n",
      "\u001b[0;32m~/.local/lib/python3.8/site-packages/_plotly_utils/basevalidators.py\u001b[0m in \u001b[0;36mvalidate_coerce\u001b[0;34m(self, v, skip_invalid, _validate)\u001b[0m\n\u001b[1;32m   2675\u001b[0m \u001b[0;34m\u001b[0m\u001b[0m\n\u001b[1;32m   2676\u001b[0m             \u001b[0;32mif\u001b[0m \u001b[0minvalid_els\u001b[0m\u001b[0;34m:\u001b[0m\u001b[0;34m\u001b[0m\u001b[0;34m\u001b[0m\u001b[0m\n\u001b[0;32m-> 2677\u001b[0;31m                 \u001b[0mself\u001b[0m\u001b[0;34m.\u001b[0m\u001b[0mraise_invalid_elements\u001b[0m\u001b[0;34m(\u001b[0m\u001b[0minvalid_els\u001b[0m\u001b[0;34m)\u001b[0m\u001b[0;34m\u001b[0m\u001b[0;34m\u001b[0m\u001b[0m\n\u001b[0m\u001b[1;32m   2678\u001b[0m \u001b[0;34m\u001b[0m\u001b[0m\n\u001b[1;32m   2679\u001b[0m             \u001b[0mv\u001b[0m \u001b[0;34m=\u001b[0m \u001b[0mto_scalar_or_list\u001b[0m\u001b[0;34m(\u001b[0m\u001b[0mres\u001b[0m\u001b[0;34m)\u001b[0m\u001b[0;34m\u001b[0m\u001b[0;34m\u001b[0m\u001b[0m\n",
      "\u001b[0;32m~/.local/lib/python3.8/site-packages/_plotly_utils/basevalidators.py\u001b[0m in \u001b[0;36mraise_invalid_elements\u001b[0;34m(self, invalid_els)\u001b[0m\n\u001b[1;32m    291\u001b[0m     \u001b[0;32mdef\u001b[0m \u001b[0mraise_invalid_elements\u001b[0m\u001b[0;34m(\u001b[0m\u001b[0mself\u001b[0m\u001b[0;34m,\u001b[0m \u001b[0minvalid_els\u001b[0m\u001b[0;34m)\u001b[0m\u001b[0;34m:\u001b[0m\u001b[0;34m\u001b[0m\u001b[0;34m\u001b[0m\u001b[0m\n\u001b[1;32m    292\u001b[0m         \u001b[0;32mif\u001b[0m \u001b[0minvalid_els\u001b[0m\u001b[0;34m:\u001b[0m\u001b[0;34m\u001b[0m\u001b[0;34m\u001b[0m\u001b[0m\n\u001b[0;32m--> 293\u001b[0;31m             raise ValueError(\n\u001b[0m\u001b[1;32m    294\u001b[0m                 \"\"\"\n\u001b[1;32m    295\u001b[0m     \u001b[0mInvalid\u001b[0m \u001b[0melement\u001b[0m\u001b[0;34m(\u001b[0m\u001b[0ms\u001b[0m\u001b[0;34m)\u001b[0m \u001b[0mreceived\u001b[0m \u001b[0;32mfor\u001b[0m \u001b[0mthe\u001b[0m \u001b[0;34m'{name}'\u001b[0m \u001b[0mproperty\u001b[0m \u001b[0mof\u001b[0m \u001b[0;34m{\u001b[0m\u001b[0mpname\u001b[0m\u001b[0;34m}\u001b[0m\u001b[0;34m\u001b[0m\u001b[0;34m\u001b[0m\u001b[0m\n",
      "\u001b[0;31mValueError\u001b[0m: \n    Invalid element(s) received for the 'data' property of \n        Invalid elements include: [<bound method Ray.trace of Ray(a=Vector(x=0.0, y=200.0, z=0), c=Vector(x=0, y=100.0, z=100.0), e=Vector(x=0.0, y=0, z=100.0), f=Vector(x=0, y=200, z=200))>]\n\n    The 'data' property is a tuple of trace instances\n    that may be specified as:\n      - A list or tuple of trace instances\n        (e.g. [Scatter(...), Bar(...)])\n      - A single trace instance\n        (e.g. Scatter(...), Bar(...), etc.)\n      - A list or tuple of dicts of string/value properties where:\n        - The 'type' property specifies the trace type\n            One of: ['area', 'bar', 'barpolar', 'box',\n                     'candlestick', 'carpet', 'choropleth',\n                     'choroplethmapbox', 'cone', 'contour',\n                     'contourcarpet', 'densitymapbox', 'funnel',\n                     'funnelarea', 'heatmap', 'heatmapgl',\n                     'histogram', 'histogram2d',\n                     'histogram2dcontour', 'image', 'indicator',\n                     'isosurface', 'mesh3d', 'ohlc', 'parcats',\n                     'parcoords', 'pie', 'pointcloud', 'sankey',\n                     'scatter', 'scatter3d', 'scattercarpet',\n                     'scattergeo', 'scattergl', 'scattermapbox',\n                     'scatterpolar', 'scatterpolargl',\n                     'scatterternary', 'splom', 'streamtube',\n                     'sunburst', 'surface', 'table', 'treemap',\n                     'violin', 'volume', 'waterfall']\n\n        - All remaining properties are passed to the constructor of\n          the specified trace type\n\n        (e.g. [{'type': 'scatter', ...}, {'type': 'bar, ...}])"
     ]
    }
   ],
   "source": [
    "# with ray\n",
    "\n",
    "start_c_vector = problem.get_c(x=0, z=h / 2)\n",
    "start_ray = problem.get_ray(c=start_c_vector)\n",
    "\n",
    "fig = go.Figure(\n",
    "    data=[cylinder.surface(n, m), xOy, y_eq_r, start_ray.trace], layout=fig_layout\n",
    ")\n",
    "\n",
    "app = JupyterDash(__name__)\n",
    "app.layout = html.Div(\n",
    "    [html.H1(\"Geometry \"),\n",
    "     dcc.Graph(id=\"graph\", figure=fig, animate=True, animation_options={\"frame\":{\"redraw\":True}}),\n",
    "     html.P(id=\"stdout\"), html.P(id=\"stderr\", style={\"color\": \"#f00\"})]\n",
    ")\n",
    "\n",
    "\n",
    "@app.callback(\n",
    "    Output(\"graph\", \"figure\"),\n",
    "    Output(\"stdout\", \"children\"),\n",
    "    Output(\"stderr\", \"children\"),\n",
    "    Input(\"graph\", \"clickData\"),\n",
    "    State(\"graph\", \"figure\"),\n",
    ")\n",
    "def update_ray(click_data, figure):\n",
    "    if click_data is None:\n",
    "        raise PreventUpdate\n",
    "    try:\n",
    "        figure[\"layout\"][\"scene\"]\n",
    "        data = click_data[\"points\"][0]\n",
    "        point = Vector(data[\"x\"], data[\"y\"], data[\"z\"])\n",
    "        label = surface_labels[data[\"curveNumber\"]]\n",
    "        if label == \"cylinder\":\n",
    "            ray = problem.get_ray(c=point)\n",
    "        elif label == \"xOy\":\n",
    "            ray = problem.get_ray(a=point)\n",
    "        elif label == \"y=r\":\n",
    "            ray = problem.get_ray(e=point)\n",
    "        else:\n",
    "            return no_update, str(data), \"another surface\"\n",
    "        if ray.c.y < problem.r ** 2 / (problem.r + problem.d):\n",
    "            return no_update, str(data), \"point C is not seen\"\n",
    "        figure[\"data\"][3] = ray.trace\n",
    "        return figure, html.Div([html.P(str(data)),\n",
    "                                 html.P(f\"a = {ray.a}\"),\n",
    "                                 html.P(f\"c = {ray.c}\"),\n",
    "                                 html.P(f\"e = {ray.e}\"),\n",
    "                                 html.P(f\"f = {ray.f}\")]), no_update\n",
    "    except BaseException as e:\n",
    "        return no_update, str(data), html.Div([\n",
    "            html.P(str(data)),\n",
    "            html.Pre(\n",
    "                ''.join(traceback.TracebackException.from_exception(e).format())),\n",
    "            html.P('base exception')\n",
    "        ])\n",
    "\n",
    "\n",
    "app.run_server(mode=\"jupyterlab\" if is_jupyterlab_running()\n",
    "               else \"inline\", port=8050 if is_jupyterlab_running() else 8051)"
   ]
  },
  {
   "cell_type": "markdown",
   "metadata": {
    "tags": []
   },
   "source": [
    "# Формальные условия"
   ]
  },
  {
   "cell_type": "markdown",
   "metadata": {},
   "source": [
    "$$r > 0, h > 0, d > 0$$\n",
    "$$x_A^2 + y_A^2 > r^2$$\n",
    "\n",
    "$$x_C^2 + y_C^2 = r^2$$\n",
    "$$0 \\le z_C < h$$\n",
    "\n",
    "$$\\begin{vmatrix} 0 & x_A & x_C\\\\ r+d & y_A & y_C \\\\ h - z_C & - z_C & 0 \\end{vmatrix} = 0$$\n",
    "\n",
    "$$\\frac{\\sqrt{(x_C - x_A)^2 + (y_C - y_A)^2 + z_C^2}}{\\sqrt{x_C^2 + (r + d - y_C)^2 + (h - z_C)^2}} = \\frac{z_C}{h - z_C}$$\n",
    "\n",
    "$$\\frac{x_C - x_E}{x_C} = \\frac{r - y_C}{r + d - y_C} = \\frac{z_E - z_C}{h - z_C}$$"
   ]
  },
  {
   "cell_type": "markdown",
   "metadata": {
    "tags": []
   },
   "source": [
    "# Известно C, нужно найти A"
   ]
  },
  {
   "cell_type": "markdown",
   "metadata": {},
   "source": [
    "Преобразование определителя (7)\n",
    "$$\\begin{vmatrix} 0 & x_A & x_C\\\\ r+d & y_A & y_C \\\\ h - z_C & - z_C & 0 \\end{vmatrix} = 0$$\n",
    "\n",
    "$$0\\cdot y_A\\cdot 0 + x_A\\cdot y_C\\cdot(h - z_C) + x_C\\cdot(r+d)\\cdot(-z_C) - x_C\\cdot y_A\\cdot(h-z_C) - x_A\\cdot(r+d)\\cdot 0 - 0\\cdot y_C\\cdot(-z_C) = 0$$\n",
    "\n",
    "$$x_A\\cdot y_C\\cdot(h - z_C) + x_C\\cdot(r+d)\\cdot(-z_C) - x_C\\cdot y_A\\cdot(h-z_C) = 0$$\n",
    "\n",
    "$$y_A = \\frac{x_A\\cdot y_C\\cdot(h - z_C) + x_C\\cdot(r+d)\\cdot(-z_C)}{x_C\\cdot(h-z_C)}  $$\n",
    "\n",
    "Преобразование отношения длин (8)\n",
    "\n",
    "$$\\frac{\\sqrt{(x_C - x_A)^2 + (y_C - y_A)^2 + z_C^2}}{\\sqrt{x_C^2 + (r + d - y_C)^2 + (h - z_C)^2}} = \\frac{z_C}{h - z_C}$$\n",
    "\n",
    "$$\\frac{(x_C - x_A)^2 + (y_C - y_A)^2 + z_C^2}{x_C^2 + (r + d - y_C)^2 + (h - z_C)^2} = \\frac{z_C^2}{(h - z_C)^2}$$\n",
    "\n",
    "преобразование $\\frac{a+b}{c+d} = \\frac{a}{c} \\Leftrightarrow \\frac{a}{c} = \\frac{b}{d}$\n",
    "\n",
    "$$\\frac{(x_C - x_A)^2 + (y_C - y_A)^2}{x_C^2 + (r + d - y_C)^2} = \\frac{z_C^2}{(h - z_C)^2}$$                       \n",
    "\n",
    "$$(x_C - x_A)^2 + (y_C - y_A)^2 = \\frac{z_C^2}{(h - z_C)^2}(x_C^2 + (r + d - y_C)^2)$$\n",
    "\n",
    "Подстановка формулы (13) в формулу (17)\n",
    "\n",
    "$$(x_C - x_A)^2 + \\left(y_C - \\frac{x_A\\cdot y_C\\cdot(h - z_C) + x_C\\cdot(r+d)\\cdot(-z_C)}{x_C\\cdot(h-z_C)}\\right)^2 = \\frac{z_C^2}{(h - z_C)^2}(x_C^2 + (r + d - y_C)^2)$$\n",
    "\n",
    "Некоторые преобразования\n",
    "\n",
    "$$(x_C - x_A)^2 + \\left(\\frac{y_C}{x_C}(x_C - x_A) + \\frac{z_C}{h-z_C}(r+d)\\right)^2 = \\frac{z_C^2}{(h - z_C)^2}(x_C^2 + (r + d)^2 - 2y_C(r + d) + y_C^2)$$\n",
    "\n",
    "$$(x_C - x_A)^2 + \\frac{y_C^2}{x_C^2}(x_C - x_A)^2 + 2\\frac{y_C\\cdot z_C}{x_C(h - z_C)}(x_C - x_A)(r + d) + \\frac{z_C^2}{(h - z_C)^2}(r + d)^2 = \\frac{z_C^2}{(h - z_C)^2}(x_C^2 + y_C^2) + \\frac{z_C^2}{(h - z_C)^2}(r + d)^2 - 2\\frac{z_C^2}{(h - z_C)^2}y_C(r + d)$$\n",
    "\n",
    "$$\\frac{r^2}{x_C^2}(x_A^2 + x_C^2 - 2x_A\\cdot x_C)^2 + 2\\frac{y_C\\cdot z_C}{x_C(h - z_C)}(x_C - x_A)(r + d) = \\frac{z_C^2}{(h - z_C)^2}r^2 - 2\\frac{z_C^2}{(h - z_C)^2}y_C(r + d)$$\n",
    "\n",
    "$$\\frac{r^2}{x_C^2}(x_A^2 + x_C^2 - 2x_A\\cdot x_C) + 2\\frac{y_C\\cdot z_C}{x_C(h - z_C)}(x_C - x_A)(r + d) = \\frac{z_C^2}{(h - z_C)^2}r^2 - 2\\frac{z_C^2}{(h - z_C)^2}y_C(r + d)$$\n",
    "\n",
    "Получается квадратный трёхчлен относительно переменной $x_A$. Приведение трёхчлена к стандартному виду\n",
    "\n",
    "$$\\frac{r^2}{x_C^2}x_A^2 + x_A\\left(\\frac{r^2}{x_C^2}(-2x_C) - 2\\frac{y_C\\cdot z_C}{x_C(h - z_C)}(r + d)\\right) + \\left(r^2 + 2\\frac{y_C\\cdot z_C}{h - z_C}(r + d) + 2\\frac{z_C^2}{(h - z_C)^2}y_C(r+d) - \\frac{z_C^2}{(h - z_C)^2}r^2\\right) = 0$$\n",
    "\n",
    "$$\\frac{r^2}{x_C^2}x_A^2 - 2x_A\\left(\\frac{r^2}{x_C} + \\frac{y_C\\cdot z_C}{x_C(h - z_C)}(r + d)\\right) + \\left(r^2 + 2\\frac{y_C\\cdot z_C\\cdot h}{(h - z_C)^2}(r+d) - \\frac{z_C^2}{(h - z_C)^2}r^2\\right) = 0$$\n",
    "\n",
    "Вычисление дискриминанта\n",
    "\n",
    "$$D = 4\\left(\\frac{r^2}{x_C} + \\frac{y_C\\cdot z_C}{x_C(h - z_C)}(r + d)\\right)^2 - 4\\frac{r^2}{x_C^2} \\left(r^2 + 2\\frac{y_C\\cdot z_C\\cdot h}{(h - z_C)^2}(r+d) - \\frac{z_C^2}{(h - z_C)^2}r^2\\right)$$\n",
    "\n",
    "$$D = 4\\left(\\frac{r^4}{x_C^2} + \\frac{y_C^2 z_C^2}{x_C^2(h - z_C)^2}(r + d)^2 + 2\\frac{r^2y_C\\cdot z_C}{x_C^2(h - z_C)}(r + d) \\right) - 4\\left(\\frac{r^4}{x_C^2} + 2\\frac{r^2 y_C\\cdot z_C\\cdot h}{x_C^2(h - z_C)^2}(r+d) - \\frac{r^2 z_C^2}{x_C^2(h - z_C)^2}r^2\\right)$$\n",
    "\n",
    "$$D = 4\\left(\\frac{y_C^2 z_C^2}{x_C^2(h - z_C)^2}(r + d)^2 + 2\\frac{r^2y_C\\cdot z_C}{x_C^2(h - z_C)}(r + d) \\right) - 4\\left(2\\frac{r^2 y_C\\cdot z_C\\cdot h}{x_C^2(h - z_C)^2}(r+d) - \\frac{r^2 z_C^2}{x_C^2(h - z_C)^2}r^2\\right)$$\n",
    "\n",
    "$$D = 4\\left(\\frac{y_C^2 z_C^2}{x_C^2(h - z_C)^2}(r + d)^2 - 2\\frac{r^2y_C\\cdot z_C^2}{x_C^2(h - z_C)^2}(r + d) + \\frac{r^2 z_C^2}{x_C^2(h - z_C)^2}r^2\\right)$$\n",
    "\n",
    "$$D = 4\\frac{z_C^2}{x_C^2(h - z_C)^2}(y_C^2(r + d)^2 - 2r^2y_C(r + d) + r^4)$$\n",
    "\n",
    "$$D = 4\\frac{z_C^2}{x_C^2(h - z_C)^2}(y_C(r + d) - r^2)^2$$\n",
    "\n",
    "$$x_A = \\frac{\\left(\\frac{r^2}{x_C} + \\frac{z_C}{x_C(h - z_C)}y_C(r + d)\\right) \\pm \\frac{z_C}{x_C(h - z_C)}(y_C(r + d) - r^2)}{\\frac{r^2}{x_C^2}}$$\n",
    "\n",
    "Получаются два решения\n",
    "$$x_{A_1} = \\frac{h\\cdot x_C}{h - z_C}$$\n",
    "или\n",
    "$$x_{A_2} = \\frac{h - 2z_C}{h - z_C}x_C + 2\\frac{x_C\\cdot y_C\\cdot z_C}{r^2 (h - z_C)}(r + d)$$\n",
    "\n",
    "Подставляем формулу (32) в формулу (14)\n",
    "\n",
    "$$y_{A_1} = \\frac{h \\cdot y_C - z_C(r+d)}{(h-z_C)}$$\n",
    "\n",
    "Подставляем формулу (33) в формулу (14)\n",
    "\n",
    "$$y_{A_2} = \\frac{h - 2z_C}{h - z_C}y_C + 2\\frac{y_C^2 z_C}{r^2(h - z_C)}(r + d) - \\frac{z_C}{h - z_C}(r + d)$$\n",
    "\n",
    "$$y_{A_2} = \\frac{h - 2z_C}{h - z_C}y_C + \\frac{(y_C^2 - x_C^2) z_C}{r^2(h - z_C)}(r + d)$$"
   ]
  },
  {
   "cell_type": "markdown",
   "metadata": {},
   "source": [
    "## Анализ результатов"
   ]
  },
  {
   "cell_type": "markdown",
   "metadata": {},
   "source": [
    "Были применены два требования: точки $F, A, B, C$ лежат в одной плоскости, и расстояния от точек $A$ и $F$ до $C$ пропорциональны длинам перпендикуляров из $AH_A$ и $FH_F$ на плоскость $z = z_C$. Получились две точки, потому что под эти требования подходит ещё и точка пересечения прямой $FC$ и плоскости $xOy$, но она не подходит под исходные требования. Теперь нужно определить, какая из двух точек лишняя\n",
    "\n",
    "Рассмотрим задачу при значениях $r=1, h=2, d=1$, $x_C = 0, y_C = 1, z_C = 1$. Тогда $x_{A_1} = 0, x_{A_2} = 0, y_{A_1} = 0, y_{A_2} = 2$. Точка $A_1$ не соответствует неравенству (4). Следовательно, искомой является точка $A_2$, $A\\equiv A_2$\n",
    "\n",
    "$$x_A = \\frac{h - 2z_C}{h - z_C}x_C + 2\\frac{x_C\\cdot y_C\\cdot z_C}{r^2 (h - z_C)}(r + d)$$\n",
    "\n",
    "$$y_A = \\frac{h - 2z_C}{h - z_C}y_C + \\frac{(y_C^2 - x_C^2) z_C}{r^2(h - z_C)}(r + d)$$"
   ]
  },
  {
   "cell_type": "markdown",
   "metadata": {},
   "source": [
    "# Известно C, нужно найти E"
   ]
  },
  {
   "cell_type": "markdown",
   "metadata": {},
   "source": [
    "Выразим $x_E$ и $z_E$ из (9) и (5)\n",
    "\n",
    "$$\\frac{x_C - x_E}{x_C} = \\frac{r - y_C}{r + d - y_C} = \\frac{z_E - z_C}{h - z_C}$$\n",
    "\n",
    "$$\\frac{x_C - x_E}{x_C} = \\frac{r - y_C}{r + d - y_C}$$\n",
    "\n",
    "$$x_E(r+d-y_C) = x_C d$$\n",
    "\n",
    "$$x_E = \\frac{x_Cd}{r+d-y_C}$$\n",
    "\n",
    "$$\\frac{r - y_C}{r + d - y_C} = \\frac{z_E - z_C}{h - z_C}$$\n",
    "\n",
    "$$rh-y_Ch+z_Cd = z_E(r+d-y_C)$$\n",
    "\n",
    "$$z_E=\\frac{(r-y_C)h+z_Cd}{r+d-y_C}$$\n"
   ]
  },
  {
   "cell_type": "code",
   "execution_count": null,
   "metadata": {},
   "outputs": [],
   "source": []
  }
 ],
 "metadata": {
  "hide_input": false,
  "kernelspec": {
   "display_name": "Python 3",
   "language": "python",
   "name": "python3"
  },
  "language_info": {
   "codemirror_mode": {
    "name": "ipython",
    "version": 3
   },
   "file_extension": ".py",
   "mimetype": "text/x-python",
   "name": "python",
   "nbconvert_exporter": "python",
   "pygments_lexer": "ipython3",
   "version": "3.8.10"
  },
  "latex_envs": {
   "LaTeX_envs_menu_present": true,
   "autoclose": false,
   "autocomplete": true,
   "bibliofile": "biblio.bib",
   "cite_by": "apalike",
   "current_citInitial": 1,
   "eqLabelWithNumbers": true,
   "eqNumInitial": 1,
   "hotkeys": {
    "equation": "Ctrl-E",
    "itemize": "Ctrl-I"
   },
   "labels_anchors": false,
   "latex_user_defs": false,
   "report_style_numbering": false,
   "user_envs_cfg": false
  },
  "toc": {
   "base_numbering": 1,
   "nav_menu": {
    "height": "343px",
    "width": "256.6px"
   },
   "number_sections": true,
   "sideBar": true,
   "skip_h1_title": false,
   "title_cell": "Table of Contents",
   "title_sidebar": "Contents",
   "toc_cell": false,
   "toc_position": {},
   "toc_section_display": true,
   "toc_window_display": false
  },
  "varInspector": {
   "cols": {
    "lenName": 16,
    "lenType": 16,
    "lenVar": 40
   },
   "kernels_config": {
    "python": {
     "delete_cmd_postfix": "",
     "delete_cmd_prefix": "del ",
     "library": "var_list.py",
     "varRefreshCmd": "print(var_dic_list())"
    },
    "r": {
     "delete_cmd_postfix": ") ",
     "delete_cmd_prefix": "rm(",
     "library": "var_list.r",
     "varRefreshCmd": "cat(var_dic_list()) "
    }
   },
   "position": {
    "height": "619.583px",
    "left": "1005.5px",
    "right": "20px",
    "top": "113px",
    "width": "405.733px"
   },
   "types_to_exclude": [
    "module",
    "function",
    "builtin_function_or_method",
    "instance",
    "_Feature"
   ],
   "window_display": false
  }
 },
 "nbformat": 4,
 "nbformat_minor": 4
}
